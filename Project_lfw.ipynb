{
  "nbformat": 4,
  "nbformat_minor": 0,
  "metadata": {
    "colab": {
      "name": "Project_lfw.ipynb",
      "provenance": [],
      "collapsed_sections": [
        "e1kodEauFdSm",
        "wbXjCV9wDTKe",
        "QiFiytZ2Dje7",
        "-8XP5DgAmiHv",
        "580-dIXzojfV",
        "8-V772ZFxfKm"
      ]
    },
    "kernelspec": {
      "display_name": "Python 3",
      "name": "python3"
    },
    "gpuClass": "standard"
  },
  "cells": [
    {
      "cell_type": "markdown",
      "metadata": {
        "id": "HoY5IHK3FFGp"
      },
      "source": [
        "#### Importing the data and req. modules"
      ]
    },
    {
      "cell_type": "code",
      "metadata": {
        "colab": {
          "base_uri": "https://localhost:8080/"
        },
        "id": "MtgTH7cOs4tx",
        "outputId": "05b86cf6-e332-4fb8-8efc-5b0980b3b431"
      },
      "source": [
        "import os\n",
        "import cv2\n",
        "import matplotlib.pyplot as plt\n",
        "import pandas as pd\n",
        "import numpy as np\n",
        "from collections import OrderedDict\n",
        "# visualization\n",
        "from PIL import Image\n",
        "# identifying faces\n",
        "%pip install mtcnn\n",
        "from mtcnn.mtcnn import MTCNN\n",
        "# visualizing bounding boxes\n",
        "import matplotlib.patches as patches\n",
        "# CNN\n",
        "import keras\n",
        "from sklearn.model_selection import train_test_split\n",
        "# Moving files between directories\n",
        "import shutil\n",
        "from shutil import unpack_archive\n",
        "from subprocess import check_output"
      ],
      "execution_count": 1,
      "outputs": [
        {
          "output_type": "stream",
          "name": "stdout",
          "text": [
            "Looking in indexes: https://pypi.org/simple, https://us-python.pkg.dev/colab-wheels/public/simple/\n",
            "Collecting mtcnn\n",
            "  Downloading mtcnn-0.1.1-py3-none-any.whl (2.3 MB)\n",
            "\u001b[K     |████████████████████████████████| 2.3 MB 8.2 MB/s \n",
            "\u001b[?25hRequirement already satisfied: keras>=2.0.0 in /usr/local/lib/python3.7/dist-packages (from mtcnn) (2.8.0)\n",
            "Requirement already satisfied: opencv-python>=4.1.0 in /usr/local/lib/python3.7/dist-packages (from mtcnn) (4.6.0.66)\n",
            "Requirement already satisfied: numpy>=1.14.5 in /usr/local/lib/python3.7/dist-packages (from opencv-python>=4.1.0->mtcnn) (1.21.6)\n",
            "Installing collected packages: mtcnn\n",
            "Successfully installed mtcnn-0.1.1\n"
          ]
        }
      ]
    },
    {
      "cell_type": "code",
      "metadata": {
        "id": "dywhBcwVPTCG"
      },
      "source": [
        "import logging\n",
        "import tensorflow as tf\n",
        "tf.get_logger().setLevel(logging.ERROR)"
      ],
      "execution_count": 2,
      "outputs": []
    },
    {
      "cell_type": "code",
      "metadata": {
        "colab": {
          "base_uri": "https://localhost:8080/"
        },
        "id": "wPhIwy0ws9Vw",
        "outputId": "84d4ebfa-758e-4121-8d9a-fcc1195d2d86"
      },
      "source": [
        "!gdown --id 1U_A1Ybb6-6KUa51b_H01gpRRSF7K6LzT"
      ],
      "execution_count": 3,
      "outputs": [
        {
          "output_type": "stream",
          "name": "stdout",
          "text": [
            "/usr/local/lib/python3.7/dist-packages/gdown/cli.py:131: FutureWarning: Option `--id` was deprecated in version 4.3.1 and will be removed in 5.0. You don't need to pass it anymore to use a file ID.\n",
            "  category=FutureWarning,\n",
            "Downloading...\n",
            "From: https://drive.google.com/uc?id=1U_A1Ybb6-6KUa51b_H01gpRRSF7K6LzT\n",
            "To: /content/lfw.zip\n",
            "100% 189M/189M [00:03<00:00, 56.2MB/s]\n"
          ]
        }
      ]
    },
    {
      "cell_type": "code",
      "metadata": {
        "id": "-tgh5OxjtHbs"
      },
      "source": [
        "!unzip -q /content/lfw.zip"
      ],
      "execution_count": 4,
      "outputs": []
    },
    {
      "cell_type": "code",
      "metadata": {
        "id": "a1liWwjCtKNi"
      },
      "source": [
        "dataset_path = \"/content/lfw/\""
      ],
      "execution_count": null,
      "outputs": []
    },
    {
      "cell_type": "code",
      "metadata": {
        "colab": {
          "resources": {
            "http://localhost:8080/nbextensions/google.colab/files.js": {
              "data": "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",
              "ok": true,
              "headers": [
                [
                  "content-type",
                  "application/javascript"
                ]
              ],
              "status": 200,
              "status_text": ""
            }
          },
          "base_uri": "https://localhost:8080/",
          "height": 73
        },
        "id": "UaSTNRJBtRd_",
        "outputId": "74b98180-b23f-4b1f-c81f-4a5c550f345e"
      },
      "source": [
        "#upload lfw_allnames file from local storage\n",
        "from google.colab import files\n",
        "uploaded = files.upload()\n",
        "\n",
        "ATTRIBUTES_PATH = \"/content/lfw_allnames.csv\""
      ],
      "execution_count": null,
      "outputs": [
        {
          "output_type": "display_data",
          "data": {
            "text/html": [
              "\n",
              "     <input type=\"file\" id=\"files-86e4c713-ad86-4f06-8521-577bd49da029\" name=\"files[]\" multiple disabled\n",
              "        style=\"border:none\" />\n",
              "     <output id=\"result-86e4c713-ad86-4f06-8521-577bd49da029\">\n",
              "      Upload widget is only available when the cell has been executed in the\n",
              "      current browser session. Please rerun this cell to enable.\n",
              "      </output>\n",
              "      <script src=\"/nbextensions/google.colab/files.js\"></script> "
            ],
            "text/plain": [
              "<IPython.core.display.HTML object>"
            ]
          },
          "metadata": {
            "tags": []
          }
        },
        {
          "output_type": "stream",
          "text": [
            "Saving lfw_allnames.csv to lfw_allnames.csv\n"
          ],
          "name": "stdout"
        }
      ]
    },
    {
      "cell_type": "markdown",
      "metadata": {
        "id": "GH4ch2tpFNns"
      },
      "source": [
        "#### Understanding the dataset"
      ]
    },
    {
      "cell_type": "code",
      "metadata": {
        "id": "GC7F_K5Ltp81"
      },
      "source": [
        "lfw_allnames = pd.read_csv(ATTRIBUTES_PATH)"
      ],
      "execution_count": null,
      "outputs": []
    },
    {
      "cell_type": "code",
      "metadata": {
        "colab": {
          "base_uri": "https://localhost:8080/",
          "height": 195
        },
        "id": "UzvlRPpTt4QC",
        "outputId": "346ae068-f7ff-4931-dd4f-b88d6de4b5b8"
      },
      "source": [
        "lfw_allnames.head()"
      ],
      "execution_count": null,
      "outputs": [
        {
          "output_type": "execute_result",
          "data": {
            "text/html": [
              "<div>\n",
              "<style scoped>\n",
              "    .dataframe tbody tr th:only-of-type {\n",
              "        vertical-align: middle;\n",
              "    }\n",
              "\n",
              "    .dataframe tbody tr th {\n",
              "        vertical-align: top;\n",
              "    }\n",
              "\n",
              "    .dataframe thead th {\n",
              "        text-align: right;\n",
              "    }\n",
              "</style>\n",
              "<table border=\"1\" class=\"dataframe\">\n",
              "  <thead>\n",
              "    <tr style=\"text-align: right;\">\n",
              "      <th></th>\n",
              "      <th>name</th>\n",
              "      <th>images</th>\n",
              "    </tr>\n",
              "  </thead>\n",
              "  <tbody>\n",
              "    <tr>\n",
              "      <th>0</th>\n",
              "      <td>AJ_Cook</td>\n",
              "      <td>1</td>\n",
              "    </tr>\n",
              "    <tr>\n",
              "      <th>1</th>\n",
              "      <td>AJ_Lamas</td>\n",
              "      <td>1</td>\n",
              "    </tr>\n",
              "    <tr>\n",
              "      <th>2</th>\n",
              "      <td>Aaron_Eckhart</td>\n",
              "      <td>1</td>\n",
              "    </tr>\n",
              "    <tr>\n",
              "      <th>3</th>\n",
              "      <td>Aaron_Guiel</td>\n",
              "      <td>1</td>\n",
              "    </tr>\n",
              "    <tr>\n",
              "      <th>4</th>\n",
              "      <td>Aaron_Patterson</td>\n",
              "      <td>1</td>\n",
              "    </tr>\n",
              "  </tbody>\n",
              "</table>\n",
              "</div>"
            ],
            "text/plain": [
              "              name  images\n",
              "0          AJ_Cook       1\n",
              "1         AJ_Lamas       1\n",
              "2    Aaron_Eckhart       1\n",
              "3      Aaron_Guiel       1\n",
              "4  Aaron_Patterson       1"
            ]
          },
          "metadata": {
            "tags": []
          },
          "execution_count": 8
        }
      ]
    },
    {
      "cell_type": "code",
      "metadata": {
        "id": "5UxxMe4St6gj"
      },
      "source": [
        "# shape data frame so there is a row per image, matched to relevant jpg file\n",
        "image_paths = lfw_allnames.loc[lfw_allnames.index.repeat(lfw_allnames['images'])]\n",
        "image_paths['image_path'] = 1 + image_paths.groupby('name').cumcount()\n",
        "image_paths['image_path'] = image_paths.image_path.apply(lambda x: '{0:0>4}'.format(x))\n",
        "image_paths['image_path'] = image_paths.name + \"/\" + image_paths.name + \"_\" + image_paths.image_path + \".jpg\"\n",
        "image_paths = image_paths.drop(\"images\",1)\n"
      ],
      "execution_count": null,
      "outputs": []
    },
    {
      "cell_type": "code",
      "metadata": {
        "colab": {
          "base_uri": "https://localhost:8080/",
          "height": 369
        },
        "id": "43kbQJaXuBbf",
        "outputId": "abdbda88-e01b-4dd0-cc34-de45453c0e8a"
      },
      "source": [
        "image_paths['name'].value_counts()[:10].plot(kind = \"bar\")"
      ],
      "execution_count": null,
      "outputs": [
        {
          "output_type": "execute_result",
          "data": {
            "text/plain": [
              "<matplotlib.axes._subplots.AxesSubplot at 0x7fcaa8ceff50>"
            ]
          },
          "metadata": {
            "tags": []
          },
          "execution_count": 10
        },
        {
          "output_type": "display_data",
          "data": {
            "image/png": "[encoded data removed]",
            "text/plain": [
              "<Figure size 432x288 with 1 Axes>"
            ]
          },
          "metadata": {
            "tags": [],
            "needs_background": "light"
          }
        }
      ]
    },
    {
      "cell_type": "markdown",
      "metadata": {
        "id": "6A7LnOo0uMQV"
      },
      "source": [
        "One of the drawbacks of the LFW dataset is that if has significant class imbalance. This can be dealt with using selective sampling, but it is useful to get an indication of the scale of the imbalance."
      ]
    },
    {
      "cell_type": "code",
      "metadata": {
        "colab": {
          "base_uri": "https://localhost:8080/"
        },
        "id": "I0i0v1-wuJen",
        "outputId": "eb8ce15b-33b1-4772-e3d0-7633cdd27f7f"
      },
      "source": [
        "ind_counts = image_paths.groupby('name').count().image_path\n",
        "print(str(sum(ind_counts[ind_counts==1]))+\" individuals have only single image\")"
      ],
      "execution_count": null,
      "outputs": [
        {
          "output_type": "stream",
          "text": [
            "4069 individuals have only single image\n"
          ],
          "name": "stdout"
        }
      ]
    },
    {
      "cell_type": "code",
      "metadata": {
        "colab": {
          "base_uri": "https://localhost:8080/"
        },
        "id": "xGZXedkZUGph",
        "outputId": "342648f1-079d-4868-a328-1e92c4c20c07"
      },
      "source": [
        "image_paths['name'].value_counts()[:30]"
      ],
      "execution_count": null,
      "outputs": [
        {
          "output_type": "execute_result",
          "data": {
            "text/plain": [
              "George_W_Bush                530\n",
              "Colin_Powell                 236\n",
              "Tony_Blair                   144\n",
              "Donald_Rumsfeld              121\n",
              "Gerhard_Schroeder            109\n",
              "Ariel_Sharon                  77\n",
              "Hugo_Chavez                   71\n",
              "Junichiro_Koizumi             60\n",
              "Jean_Chretien                 55\n",
              "John_Ashcroft                 53\n",
              "Jacques_Chirac                52\n",
              "Serena_Williams               52\n",
              "Vladimir_Putin                49\n",
              "Luiz_Inacio_Lula_da_Silva     48\n",
              "Gloria_Macapagal_Arroyo       44\n",
              "Arnold_Schwarzenegger         42\n",
              "Jennifer_Capriati             42\n",
              "Laura_Bush                    41\n",
              "Lleyton_Hewitt                41\n",
              "Alejandro_Toledo              39\n",
              "Hans_Blix                     39\n",
              "Nestor_Kirchner               37\n",
              "Andre_Agassi                  36\n",
              "Alvaro_Uribe                  35\n",
              "Megawati_Sukarnoputri         33\n",
              "Tom_Ridge                     33\n",
              "Silvio_Berlusconi             33\n",
              "Roh_Moo-hyun                  32\n",
              "Kofi_Annan                    32\n",
              "Vicente_Fox                   32\n",
              "Name: name, dtype: int64"
            ]
          },
          "metadata": {
            "tags": []
          },
          "execution_count": 23
        }
      ]
    },
    {
      "cell_type": "markdown",
      "metadata": {
        "id": "Y-720S7I1D7c"
      },
      "source": [
        "This shows clr imbalance of the dataset. We could either upsample or downsample the datset"
      ]
    },
    {
      "cell_type": "markdown",
      "metadata": {
        "id": "e1kodEauFdSm"
      },
      "source": [
        "#### Creating the dataset"
      ]
    },
    {
      "cell_type": "code",
      "metadata": {
        "colab": {
          "base_uri": "https://localhost:8080/",
          "height": 35
        },
        "id": "amwEG-LRVL_2",
        "outputId": "8d540846-b4a9-48c3-8974-6bc7026a24c8"
      },
      "source": [
        "image_paths.image_path[0]"
      ],
      "execution_count": null,
      "outputs": [
        {
          "output_type": "execute_result",
          "data": {
            "application/vnd.google.colaboratory.intrinsic+json": {
              "type": "string"
            },
            "text/plain": [
              "'AJ_Cook/AJ_Cook_0001.jpg'"
            ]
          },
          "metadata": {
            "tags": []
          },
          "execution_count": 13
        }
      ]
    },
    {
      "cell_type": "code",
      "metadata": {
        "colab": {
          "base_uri": "https://localhost:8080/",
          "height": 269
        },
        "id": "Hfx7HkcTwkJg",
        "outputId": "7165794f-3fa0-42f6-c6eb-762646b5344e"
      },
      "source": [
        "# Use out-of-the-box MTCNN algorithm to identify facial boundaries on a sample image\n",
        "detector = MTCNN()\n",
        "image = cv2.imread(dataset_path+str(image_paths.image_path[0]))\n",
        "result = detector.detect_faces(image)\n",
        "# That's it - the results have already been generated! Now we extract the boundaries that have been identified \n",
        "x,y,w,h = result[0]['box']\n",
        "keypoints = result[0]['keypoints']\n",
        "# Finally, we plot the image along with the face's bounding box and internal features (eyes, nose, and mouth corners)\n",
        "fig,ax = plt.subplots(1)\n",
        "#ax.imshow(image)\n",
        "cv2.rectangle(image,(x,y),(x+w, y+h), (255, 0, 0), 2)\n",
        "ax.imshow(image)\n",
        "plt.show()"
      ],
      "execution_count": null,
      "outputs": [
        {
          "output_type": "display_data",
          "data": {
            "image/png": "[encoded data removed]",
            "text/plain": [
              "<Figure size 432x288 with 1 Axes>"
            ]
          },
          "metadata": {
            "tags": [],
            "needs_background": "light"
          }
        }
      ]
    },
    {
      "cell_type": "code",
      "metadata": {
        "id": "49kmtYIJ0xj-"
      },
      "source": [
        "new_data = pd.concat([image_paths[image_paths.name==\"George_W_Bush\"].sample(48),\n",
        "                        image_paths[image_paths.name==\"Colin_Powell\"].sample(48),\n",
        "                        image_paths[image_paths.name==\"Tony_Blair\"].sample(48),\n",
        "                        image_paths[image_paths.name==\"Donald_Rumsfeld\"].sample(48),\n",
        "                        image_paths[image_paths.name==\"Gerhard_Schroeder\"].sample(48),\n",
        "                        image_paths[image_paths.name==\"Ariel_Sharon\"].sample(48),\n",
        "                        image_paths[image_paths.name==\"Hugo_Chavez\"].sample(48),\n",
        "                      image_paths[image_paths.name==\"Junichiro_Koizumi\"].sample(48),\n",
        "                      image_paths[image_paths.name==\"Jean_Chretien\"].sample(48),\n",
        "                      image_paths[image_paths.name==\"John_Ashcroft\"].sample(48),\n",
        "                      image_paths[image_paths.name==\"Serena_Williams\"].sample(48),\n",
        "                      image_paths[image_paths.name==\"Jacques_Chirac\"].sample(48),\n",
        "                      image_paths[image_paths.name==\"Vladimir_Putin\"].sample(48),\n",
        "                      image_paths[image_paths.name==\"Luiz_Inacio_Lula_da_Silva\"].sample(48),\n",
        "                      #image_paths[image_paths.name==\"Gloria_Macapagal_Arroyo\"].sample(40)\n",
        "                        ])"
      ],
      "execution_count": null,
      "outputs": []
    },
    {
      "cell_type": "code",
      "metadata": {
        "colab": {
          "base_uri": "https://localhost:8080/"
        },
        "id": "Lns-p20j11zo",
        "outputId": "3217dd3a-1672-45d8-c542-11a6c235fd92"
      },
      "source": [
        "print(new_data.head())\n",
        "print(len(new_data))"
      ],
      "execution_count": null,
      "outputs": [
        {
          "output_type": "stream",
          "text": [
            "               name                            image_path\n",
            "1871  George_W_Bush  George_W_Bush/George_W_Bush_0099.jpg\n",
            "1871  George_W_Bush  George_W_Bush/George_W_Bush_0506.jpg\n",
            "1871  George_W_Bush  George_W_Bush/George_W_Bush_0419.jpg\n",
            "1871  George_W_Bush  George_W_Bush/George_W_Bush_0353.jpg\n",
            "1871  George_W_Bush  George_W_Bush/George_W_Bush_0124.jpg\n",
            "672\n"
          ],
          "name": "stdout"
        }
      ]
    },
    {
      "cell_type": "code",
      "metadata": {
        "id": "fbNMyURrCeEv"
      },
      "source": [
        "def detect_crop(img_path,loc):\n",
        "    detector = MTCNN()\n",
        "    image = cv2.imread(img_path)\n",
        "    result = detector.detect_faces(image)\n",
        "    try:\n",
        "      x,y,w,h = result[0]['box']\n",
        "      cropped = image[y:y+h,x:x+w]\n",
        "      os.chdir(loc)\n",
        "      name = img_path.split(\"/\")[-1]\n",
        "      #print(os.curdir)\n",
        "      #print(\"NAME: \",name)\n",
        "      cv2.imwrite(name,cropped)\n",
        "    except:\n",
        "      pass"
      ],
      "execution_count": null,
      "outputs": []
    },
    {
      "cell_type": "code",
      "metadata": {
        "id": "0tqhiHeEDWXj"
      },
      "source": [
        "train, test = train_test_split(new_data, test_size=0.2)\n",
        "train, val = train_test_split(train,test_size=0.2)"
      ],
      "execution_count": null,
      "outputs": []
    },
    {
      "cell_type": "code",
      "metadata": {
        "id": "rh43bxCCw8U5"
      },
      "source": [
        "def directory_mover(data,dir_name):\n",
        "    co = 0\n",
        "    for image in data.image_path:\n",
        "        # create top directory\n",
        "        if not os.path.exists(os.path.join('/content/',dir_name)):\n",
        "            shutil.os.mkdir(os.path.join('/content/',dir_name))\n",
        "        \n",
        "        data_type = data[data['image_path'] == image]['name']\n",
        "        data_type = str(list(data_type)[0])\n",
        "        if not os.path.exists(os.path.join('/content/',dir_name,data_type)):\n",
        "            shutil.os.mkdir(os.path.join('/content/',dir_name,data_type))\n",
        "        path_from = os.path.join(dataset_path,image)\n",
        "        path_to = os.path.join('/content/',dir_name,data_type)\n",
        "        # print(path_to)\n",
        "        #print(path_to,path_from)\n",
        "        detect_crop(path_from,path_to)\n",
        "        \n",
        "        #shutil.copy(path_from, path_to)\n",
        "        co += 1\n",
        "        \n",
        "    print('Moved {} images to {} folder.'.format(co,dir_name))"
      ],
      "execution_count": null,
      "outputs": []
    },
    {
      "cell_type": "code",
      "metadata": {
        "colab": {
          "base_uri": "https://localhost:8080/"
        },
        "id": "apgaP-J56REm",
        "outputId": "cefe52e0-83bd-4a43-f7a0-ad4bf3c03009"
      },
      "source": [
        "directory_mover(train,\"train_data/\")\n",
        "directory_mover(val,\"val_data/\")\n",
        "directory_mover(test,\"test_data/\")"
      ],
      "execution_count": null,
      "outputs": [
        {
          "output_type": "stream",
          "text": [
            "Moved 429 images to train_data/ folder.\n",
            "Moved 108 images to val_data/ folder.\n",
            "Moved 135 images to test_data/ folder.\n"
          ],
          "name": "stdout"
        }
      ]
    },
    {
      "cell_type": "code",
      "metadata": {
        "colab": {
          "base_uri": "https://localhost:8080/"
        },
        "id": "suZaUCp_EJPD",
        "outputId": "472f737d-ea59-4991-e2e2-faa41358a1ed"
      },
      "source": [
        "train_datagen = keras.preprocessing.image.ImageDataGenerator(rescale = 1./255, shear_range = 0.2, zoom_range = 0.2, horizontal_flip = True)\n",
        "test_datagen = keras.preprocessing.image.ImageDataGenerator(rescale = 1./255)\n",
        "\n",
        "training_set = train_datagen.flow_from_directory('/content/train_data/', target_size = (150, 150), batch_size = 32, class_mode = 'categorical')\n",
        "val_set = test_datagen.flow_from_directory('/content/val_data/', target_size = (150, 150), batch_size = 32, class_mode = 'categorical')\n",
        "test_set = test_datagen.flow_from_directory('/content/test_data/', target_size = (150, 150), batch_size = 32, class_mode = 'categorical')"
      ],
      "execution_count": null,
      "outputs": [
        {
          "output_type": "stream",
          "text": [
            "Found 416 images belonging to 14 classes.\n",
            "Found 104 images belonging to 14 classes.\n",
            "Found 128 images belonging to 14 classes.\n"
          ],
          "name": "stdout"
        }
      ]
    },
    {
      "cell_type": "markdown",
      "metadata": {
        "id": "z1K5i35eEm0K"
      },
      "source": [
        "####CREATING AND TRAINING THE MODEL"
      ]
    },
    {
      "cell_type": "code",
      "metadata": {
        "id": "fPk27-j651p7"
      },
      "source": [
        "# initialize sequential network\n",
        "from keras.models import Sequential\n",
        "# include convolutional layers\n",
        "from keras.layers import Conv2D\n",
        "# Pooling layers\n",
        "from keras.layers import MaxPooling2D\n",
        "# flatten layers into single vector\n",
        "from keras.layers import Flatten\n",
        "from keras.layers import Dense"
      ],
      "execution_count": null,
      "outputs": []
    },
    {
      "cell_type": "markdown",
      "metadata": {
        "id": "ozzIDYngDIN4"
      },
      "source": [
        "#####MODEL1 - 67%"
      ]
    },
    {
      "cell_type": "code",
      "metadata": {
        "colab": {
          "base_uri": "https://localhost:8080/"
        },
        "id": "vYM1Sl3z4JZH",
        "outputId": "42f603c7-5970-403f-b9ad-d8d7885e4024"
      },
      "source": [
        "# Same model setup as before\n",
        "classifier = Sequential()\n",
        "classifier.add(Conv2D(32, (3, 3), input_shape = (250, 250, 3), activation = 'relu'))\n",
        "classifier.add(MaxPooling2D(pool_size = (2, 2)))\n",
        "\n",
        "classifier.add(Conv2D(32, (3, 3), activation = 'relu'))\n",
        "classifier.add(MaxPooling2D(pool_size = (2, 2)))\n",
        "\n",
        "classifier.add(Flatten())\n",
        "\n",
        "classifier.add(Dense(units = 128, activation = 'relu'))\n",
        "classifier.add(Dense(units = 14, activation = 'softmax'))\n",
        "\n",
        "print(classifier.summary())\n",
        "classifier.compile(optimizer = 'adam', loss = 'categorical_crossentropy', metrics = ['accuracy'])\n"
      ],
      "execution_count": null,
      "outputs": [
        {
          "output_type": "stream",
          "text": [
            "Model: \"sequential\"\n",
            "_________________________________________________________________\n",
            "Layer (type)                 Output Shape              Param #   \n",
            "=================================================================\n",
            "conv2d_8112 (Conv2D)         (None, 248, 248, 32)      896       \n",
            "_________________________________________________________________\n",
            "max_pooling2d_4056 (MaxPooli (None, 124, 124, 32)      0         \n",
            "_________________________________________________________________\n",
            "conv2d_8113 (Conv2D)         (None, 122, 122, 32)      9248      \n",
            "_________________________________________________________________\n",
            "max_pooling2d_4057 (MaxPooli (None, 61, 61, 32)        0         \n",
            "_________________________________________________________________\n",
            "flatten_1352 (Flatten)       (None, 119072)            0         \n",
            "_________________________________________________________________\n",
            "dense_4732 (Dense)           (None, 128)               15241344  \n",
            "_________________________________________________________________\n",
            "dense_4733 (Dense)           (None, 14)                1806      \n",
            "=================================================================\n",
            "Total params: 15,253,294\n",
            "Trainable params: 15,253,294\n",
            "Non-trainable params: 0\n",
            "_________________________________________________________________\n",
            "None\n"
          ],
          "name": "stdout"
        }
      ]
    },
    {
      "cell_type": "code",
      "metadata": {
        "colab": {
          "base_uri": "https://localhost:8080/"
        },
        "id": "NcIQCiRv5r29",
        "outputId": "f67f5b3c-8599-4815-c6ec-da04687ae464"
      },
      "source": [
        "history = classifier.fit_generator(training_set, epochs = 50, validation_data = val_set)\n"
      ],
      "execution_count": null,
      "outputs": [
        {
          "output_type": "stream",
          "text": [
            "/usr/local/lib/python3.7/dist-packages/tensorflow/python/keras/engine/training.py:1844: UserWarning: `Model.fit_generator` is deprecated and will be removed in a future version. Please use `Model.fit`, which supports generators.\n",
            "  warnings.warn('`Model.fit_generator` is deprecated and '\n"
          ],
          "name": "stderr"
        },
        {
          "output_type": "stream",
          "text": [
            "Epoch 1/50\n",
            "13/13 [==============================] - 29s 2s/step - loss: 5.6758 - accuracy: 0.0796 - val_loss: 2.6540 - val_accuracy: 0.0952\n",
            "Epoch 2/50\n",
            "13/13 [==============================] - 28s 2s/step - loss: 2.6266 - accuracy: 0.0860 - val_loss: 2.6134 - val_accuracy: 0.0762\n",
            "Epoch 3/50\n",
            "13/13 [==============================] - 28s 2s/step - loss: 2.5445 - accuracy: 0.1586 - val_loss: 2.4601 - val_accuracy: 0.2095\n",
            "Epoch 4/50\n",
            "13/13 [==============================] - 28s 2s/step - loss: 2.2868 - accuracy: 0.2293 - val_loss: 2.2089 - val_accuracy: 0.3429\n",
            "Epoch 5/50\n",
            "13/13 [==============================] - 28s 2s/step - loss: 2.0882 - accuracy: 0.3098 - val_loss: 2.0270 - val_accuracy: 0.3524\n",
            "Epoch 6/50\n",
            "13/13 [==============================] - 28s 2s/step - loss: 1.8315 - accuracy: 0.4786 - val_loss: 1.8501 - val_accuracy: 0.4190\n",
            "Epoch 7/50\n",
            "13/13 [==============================] - 28s 2s/step - loss: 1.6024 - accuracy: 0.5114 - val_loss: 1.7846 - val_accuracy: 0.4571\n",
            "Epoch 8/50\n",
            "13/13 [==============================] - 29s 2s/step - loss: 1.5538 - accuracy: 0.5024 - val_loss: 1.6733 - val_accuracy: 0.5143\n",
            "Epoch 9/50\n",
            "13/13 [==============================] - 28s 2s/step - loss: 1.2079 - accuracy: 0.5982 - val_loss: 1.7216 - val_accuracy: 0.4571\n",
            "Epoch 10/50\n",
            "13/13 [==============================] - 28s 2s/step - loss: 1.3102 - accuracy: 0.5974 - val_loss: 1.5756 - val_accuracy: 0.5238\n",
            "Epoch 11/50\n",
            "13/13 [==============================] - 28s 2s/step - loss: 0.9932 - accuracy: 0.6984 - val_loss: 1.2868 - val_accuracy: 0.6190\n",
            "Epoch 12/50\n",
            "13/13 [==============================] - 28s 2s/step - loss: 1.0803 - accuracy: 0.6589 - val_loss: 1.6013 - val_accuracy: 0.6190\n",
            "Epoch 13/50\n",
            "13/13 [==============================] - 28s 2s/step - loss: 1.0095 - accuracy: 0.6871 - val_loss: 1.5700 - val_accuracy: 0.5429\n",
            "Epoch 14/50\n",
            "13/13 [==============================] - 28s 2s/step - loss: 0.8167 - accuracy: 0.7180 - val_loss: 1.5505 - val_accuracy: 0.5905\n",
            "Epoch 15/50\n",
            "13/13 [==============================] - 28s 2s/step - loss: 0.8714 - accuracy: 0.7246 - val_loss: 1.2653 - val_accuracy: 0.6190\n",
            "Epoch 16/50\n",
            "13/13 [==============================] - 28s 2s/step - loss: 0.6296 - accuracy: 0.8065 - val_loss: 1.4251 - val_accuracy: 0.6000\n",
            "Epoch 17/50\n",
            "13/13 [==============================] - 32s 2s/step - loss: 0.5679 - accuracy: 0.8245 - val_loss: 1.4180 - val_accuracy: 0.6286\n",
            "Epoch 18/50\n",
            "13/13 [==============================] - 28s 2s/step - loss: 0.5560 - accuracy: 0.8342 - val_loss: 1.1917 - val_accuracy: 0.6476\n",
            "Epoch 19/50\n",
            "13/13 [==============================] - 28s 2s/step - loss: 0.5085 - accuracy: 0.8360 - val_loss: 1.2332 - val_accuracy: 0.6571\n",
            "Epoch 20/50\n",
            "13/13 [==============================] - 28s 2s/step - loss: 0.5130 - accuracy: 0.8361 - val_loss: 1.3240 - val_accuracy: 0.6667\n",
            "Epoch 21/50\n",
            "13/13 [==============================] - 28s 2s/step - loss: 0.4386 - accuracy: 0.8479 - val_loss: 1.1745 - val_accuracy: 0.7238\n",
            "Epoch 22/50\n",
            "13/13 [==============================] - 28s 2s/step - loss: 0.3873 - accuracy: 0.8773 - val_loss: 1.4485 - val_accuracy: 0.5810\n",
            "Epoch 23/50\n",
            "13/13 [==============================] - 29s 2s/step - loss: 0.3478 - accuracy: 0.8657 - val_loss: 1.2390 - val_accuracy: 0.6571\n",
            "Epoch 24/50\n",
            "13/13 [==============================] - 29s 2s/step - loss: 0.3474 - accuracy: 0.9112 - val_loss: 1.4523 - val_accuracy: 0.6857\n",
            "Epoch 25/50\n",
            "13/13 [==============================] - 29s 2s/step - loss: 0.3108 - accuracy: 0.9019 - val_loss: 1.2152 - val_accuracy: 0.7524\n",
            "Epoch 26/50\n",
            "13/13 [==============================] - 29s 2s/step - loss: 0.2844 - accuracy: 0.9226 - val_loss: 1.2848 - val_accuracy: 0.6857\n",
            "Epoch 27/50\n",
            "13/13 [==============================] - 28s 2s/step - loss: 0.2367 - accuracy: 0.9274 - val_loss: 1.2118 - val_accuracy: 0.7333\n",
            "Epoch 28/50\n",
            "13/13 [==============================] - 28s 2s/step - loss: 0.2551 - accuracy: 0.9432 - val_loss: 1.3969 - val_accuracy: 0.6857\n",
            "Epoch 29/50\n",
            "13/13 [==============================] - 28s 2s/step - loss: 0.2971 - accuracy: 0.9174 - val_loss: 1.3005 - val_accuracy: 0.7048\n",
            "Epoch 30/50\n",
            "13/13 [==============================] - 28s 2s/step - loss: 0.2414 - accuracy: 0.9276 - val_loss: 1.2158 - val_accuracy: 0.6952\n",
            "Epoch 31/50\n",
            "13/13 [==============================] - 28s 2s/step - loss: 0.2384 - accuracy: 0.9262 - val_loss: 1.6811 - val_accuracy: 0.6571\n",
            "Epoch 32/50\n",
            "13/13 [==============================] - 28s 2s/step - loss: 0.3062 - accuracy: 0.9061 - val_loss: 1.2907 - val_accuracy: 0.6857\n",
            "Epoch 33/50\n",
            "13/13 [==============================] - 28s 2s/step - loss: 0.3385 - accuracy: 0.9092 - val_loss: 1.5078 - val_accuracy: 0.6762\n",
            "Epoch 34/50\n",
            "13/13 [==============================] - 29s 2s/step - loss: 0.2823 - accuracy: 0.9094 - val_loss: 1.5223 - val_accuracy: 0.6476\n",
            "Epoch 35/50\n",
            "13/13 [==============================] - 28s 2s/step - loss: 0.2450 - accuracy: 0.9187 - val_loss: 1.5246 - val_accuracy: 0.6571\n",
            "Epoch 36/50\n",
            "13/13 [==============================] - 29s 2s/step - loss: 0.1619 - accuracy: 0.9562 - val_loss: 1.9139 - val_accuracy: 0.6000\n",
            "Epoch 37/50\n",
            "13/13 [==============================] - 29s 2s/step - loss: 0.1864 - accuracy: 0.9387 - val_loss: 1.6207 - val_accuracy: 0.7048\n",
            "Epoch 38/50\n",
            "13/13 [==============================] - 28s 2s/step - loss: 0.2434 - accuracy: 0.9453 - val_loss: 1.6759 - val_accuracy: 0.6286\n",
            "Epoch 39/50\n",
            "13/13 [==============================] - 28s 2s/step - loss: 0.1369 - accuracy: 0.9644 - val_loss: 1.5015 - val_accuracy: 0.6952\n",
            "Epoch 40/50\n",
            "13/13 [==============================] - 29s 2s/step - loss: 0.2312 - accuracy: 0.9313 - val_loss: 1.8133 - val_accuracy: 0.6095\n",
            "Epoch 41/50\n",
            "13/13 [==============================] - 28s 2s/step - loss: 0.1396 - accuracy: 0.9533 - val_loss: 1.4201 - val_accuracy: 0.7429\n",
            "Epoch 42/50\n",
            "13/13 [==============================] - 29s 2s/step - loss: 0.1105 - accuracy: 0.9811 - val_loss: 1.5120 - val_accuracy: 0.6857\n",
            "Epoch 43/50\n",
            "13/13 [==============================] - 28s 2s/step - loss: 0.1429 - accuracy: 0.9550 - val_loss: 1.7106 - val_accuracy: 0.6952\n",
            "Epoch 44/50\n",
            "13/13 [==============================] - 28s 2s/step - loss: 0.1370 - accuracy: 0.9631 - val_loss: 1.6784 - val_accuracy: 0.6762\n",
            "Epoch 45/50\n",
            "13/13 [==============================] - 28s 2s/step - loss: 0.1710 - accuracy: 0.9570 - val_loss: 1.5041 - val_accuracy: 0.7048\n",
            "Epoch 46/50\n",
            "13/13 [==============================] - 28s 2s/step - loss: 0.0946 - accuracy: 0.9774 - val_loss: 1.5806 - val_accuracy: 0.6857\n",
            "Epoch 47/50\n",
            "13/13 [==============================] - 28s 2s/step - loss: 0.1437 - accuracy: 0.9505 - val_loss: 1.6329 - val_accuracy: 0.6667\n",
            "Epoch 48/50\n",
            "13/13 [==============================] - 28s 2s/step - loss: 0.2074 - accuracy: 0.9355 - val_loss: 1.8320 - val_accuracy: 0.6762\n",
            "Epoch 49/50\n",
            "13/13 [==============================] - 28s 2s/step - loss: 0.1825 - accuracy: 0.9541 - val_loss: 1.7061 - val_accuracy: 0.6667\n",
            "Epoch 50/50\n",
            "13/13 [==============================] - 28s 2s/step - loss: 0.1152 - accuracy: 0.9752 - val_loss: 1.4569 - val_accuracy: 0.7238\n"
          ],
          "name": "stdout"
        }
      ]
    },
    {
      "cell_type": "code",
      "metadata": {
        "colab": {
          "base_uri": "https://localhost:8080/",
          "height": 573
        },
        "id": "CmAd4fzTE_T9",
        "outputId": "1afa58ed-80dd-40de-94aa-54d7d8b1be1f"
      },
      "source": [
        "plt.plot(history.history['accuracy'])\n",
        "plt.plot(history.history['val_accuracy'])\n",
        "plt.title('model accuracy')\n",
        "plt.ylabel('accuracy')\n",
        "plt.xlabel('epoch')\n",
        "plt.legend(['train', 'test'], loc='upper left')\n",
        "plt.show()\n",
        "# summarize history for loss\n",
        "plt.plot(history.history['loss'])\n",
        "plt.plot(history.history['val_loss'])\n",
        "plt.title('model loss')\n",
        "plt.ylabel('loss')\n",
        "plt.xlabel('epoch')\n",
        "plt.legend(['train', 'test'], loc='upper left')\n",
        "plt.show()"
      ],
      "execution_count": null,
      "outputs": [
        {
          "output_type": "display_data",
          "data": {
            "image/png": "[encoded data removed]",
            "text/plain": [
              "<Figure size 432x288 with 1 Axes>"
            ]
          },
          "metadata": {
            "tags": []
          }
        },
        {
          "output_type": "display_data",
          "data": {
            "image/png": "[encoded data removed]",
            "text/plain": [
              "<Figure size 432x288 with 1 Axes>"
            ]
          },
          "metadata": {
            "tags": []
          }
        }
      ]
    },
    {
      "cell_type": "code",
      "metadata": {
        "colab": {
          "base_uri": "https://localhost:8080/"
        },
        "id": "lVus0HecJhXj",
        "outputId": "5acdcfb5-daef-469c-c4f5-85f60775f55c"
      },
      "source": [
        "loss, accuracy = classifier.evaluate(test_set, verbose=1)\n",
        "print(\"LOSS: \",loss)\n",
        "print(\"ACCURACY: \",accuracy)"
      ],
      "execution_count": null,
      "outputs": [
        {
          "output_type": "stream",
          "text": [
            "5/5 [==============================] - 2s 396ms/step - loss: 1.4113 - accuracy: 0.6744\n",
            "LOSS:  1.4112910032272339\n",
            "ACCURACY:  0.6744186282157898\n"
          ],
          "name": "stdout"
        }
      ]
    },
    {
      "cell_type": "markdown",
      "metadata": {
        "id": "wbXjCV9wDTKe"
      },
      "source": [
        "##### Model2 - 72%"
      ]
    },
    {
      "cell_type": "code",
      "metadata": {
        "colab": {
          "base_uri": "https://localhost:8080/"
        },
        "id": "13pANgmNI_CZ",
        "outputId": "cb96d7ed-994b-4786-9064-36624d2fd437"
      },
      "source": [
        "model = Sequential()\n",
        "model.add(Conv2D(32, (3, 3), input_shape = (250, 250, 3), activation = 'relu'))\n",
        "model.add(MaxPooling2D(pool_size = (2, 2)))\n",
        "\n",
        "model.add(Conv2D(32, (3, 3), activation = 'relu'))\n",
        "model.add(MaxPooling2D(pool_size = (2, 2)))\n",
        "\n",
        "model.add(Conv2D(64, (3, 3), activation = 'relu'))\n",
        "model.add(MaxPooling2D(pool_size = (2, 2)))\n",
        "\n",
        "model.add(Flatten())\n",
        "\n",
        "model.add(Dense(units = 256,activation='relu'))\n",
        "model.add(Dense(units = 128, activation = 'relu'))\n",
        "model.add(Dense(units = 14, activation = 'softmax'))\n",
        "\n",
        "print(model.summary())\n",
        "\n",
        "model.compile(optimizer = 'adam', loss = 'categorical_crossentropy', metrics = ['accuracy'])"
      ],
      "execution_count": null,
      "outputs": [
        {
          "output_type": "stream",
          "text": [
            "Model: \"sequential_2\"\n",
            "_________________________________________________________________\n",
            "Layer (type)                 Output Shape              Param #   \n",
            "=================================================================\n",
            "conv2d_8117 (Conv2D)         (None, 248, 248, 32)      896       \n",
            "_________________________________________________________________\n",
            "max_pooling2d_4061 (MaxPooli (None, 124, 124, 32)      0         \n",
            "_________________________________________________________________\n",
            "conv2d_8118 (Conv2D)         (None, 122, 122, 32)      9248      \n",
            "_________________________________________________________________\n",
            "max_pooling2d_4062 (MaxPooli (None, 61, 61, 32)        0         \n",
            "_________________________________________________________________\n",
            "conv2d_8119 (Conv2D)         (None, 59, 59, 64)        18496     \n",
            "_________________________________________________________________\n",
            "max_pooling2d_4063 (MaxPooli (None, 29, 29, 64)        0         \n",
            "_________________________________________________________________\n",
            "flatten_1354 (Flatten)       (None, 53824)             0         \n",
            "_________________________________________________________________\n",
            "dense_4734 (Dense)           (None, 256)               13779200  \n",
            "_________________________________________________________________\n",
            "dense_4735 (Dense)           (None, 128)               32896     \n",
            "_________________________________________________________________\n",
            "dense_4736 (Dense)           (None, 14)                1806      \n",
            "=================================================================\n",
            "Total params: 13,842,542\n",
            "Trainable params: 13,842,542\n",
            "Non-trainable params: 0\n",
            "_________________________________________________________________\n",
            "None\n"
          ],
          "name": "stdout"
        }
      ]
    },
    {
      "cell_type": "code",
      "metadata": {
        "colab": {
          "base_uri": "https://localhost:8080/"
        },
        "id": "n3Dp65FzlMxC",
        "outputId": "86530089-764d-458f-f2ff-d2df461f2d8d"
      },
      "source": [
        "history1 = model.fit_generator(training_set, epochs = 50, validation_data = val_set)"
      ],
      "execution_count": null,
      "outputs": [
        {
          "output_type": "stream",
          "text": [
            "/usr/local/lib/python3.7/dist-packages/tensorflow/python/keras/engine/training.py:1844: UserWarning: `Model.fit_generator` is deprecated and will be removed in a future version. Please use `Model.fit`, which supports generators.\n",
            "  warnings.warn('`Model.fit_generator` is deprecated and '\n"
          ],
          "name": "stderr"
        },
        {
          "output_type": "stream",
          "text": [
            "Epoch 1/50\n",
            "13/13 [==============================] - 39s 3s/step - loss: 2.6772 - accuracy: 0.0387 - val_loss: 2.6645 - val_accuracy: 0.0381\n",
            "Epoch 2/50\n",
            "13/13 [==============================] - 34s 2s/step - loss: 2.6226 - accuracy: 0.1404 - val_loss: 2.6562 - val_accuracy: 0.0190\n",
            "Epoch 3/50\n",
            "13/13 [==============================] - 33s 2s/step - loss: 2.6334 - accuracy: 0.0685 - val_loss: 2.6512 - val_accuracy: 0.0381\n",
            "Epoch 4/50\n",
            "13/13 [==============================] - 33s 3s/step - loss: 2.5660 - accuracy: 0.1377 - val_loss: 2.5657 - val_accuracy: 0.1429\n",
            "Epoch 5/50\n",
            "13/13 [==============================] - 33s 2s/step - loss: 2.3885 - accuracy: 0.2332 - val_loss: 2.3047 - val_accuracy: 0.2571\n",
            "Epoch 6/50\n",
            "13/13 [==============================] - 33s 2s/step - loss: 2.2966 - accuracy: 0.2287 - val_loss: 2.3494 - val_accuracy: 0.1905\n",
            "Epoch 7/50\n",
            "13/13 [==============================] - 33s 2s/step - loss: 2.0969 - accuracy: 0.2950 - val_loss: 2.2388 - val_accuracy: 0.2571\n",
            "Epoch 8/50\n",
            "13/13 [==============================] - 33s 2s/step - loss: 1.9043 - accuracy: 0.3594 - val_loss: 2.0031 - val_accuracy: 0.3238\n",
            "Epoch 9/50\n",
            "13/13 [==============================] - 33s 3s/step - loss: 1.5676 - accuracy: 0.4798 - val_loss: 1.8740 - val_accuracy: 0.3810\n",
            "Epoch 10/50\n",
            "13/13 [==============================] - 33s 2s/step - loss: 1.5512 - accuracy: 0.5074 - val_loss: 1.8514 - val_accuracy: 0.5048\n",
            "Epoch 11/50\n",
            "13/13 [==============================] - 33s 2s/step - loss: 1.3808 - accuracy: 0.5478 - val_loss: 1.7386 - val_accuracy: 0.4286\n",
            "Epoch 12/50\n",
            "13/13 [==============================] - 33s 2s/step - loss: 1.2515 - accuracy: 0.5925 - val_loss: 1.7605 - val_accuracy: 0.4857\n",
            "Epoch 13/50\n",
            "13/13 [==============================] - 33s 3s/step - loss: 1.0301 - accuracy: 0.6624 - val_loss: 1.7321 - val_accuracy: 0.4381\n",
            "Epoch 14/50\n",
            "13/13 [==============================] - 33s 2s/step - loss: 1.2117 - accuracy: 0.6133 - val_loss: 1.6647 - val_accuracy: 0.5524\n",
            "Epoch 15/50\n",
            "13/13 [==============================] - 33s 2s/step - loss: 0.9808 - accuracy: 0.6918 - val_loss: 1.5604 - val_accuracy: 0.4762\n",
            "Epoch 16/50\n",
            "13/13 [==============================] - 33s 2s/step - loss: 0.7861 - accuracy: 0.7630 - val_loss: 1.6825 - val_accuracy: 0.5810\n",
            "Epoch 17/50\n",
            "13/13 [==============================] - 33s 2s/step - loss: 0.9149 - accuracy: 0.6904 - val_loss: 1.5585 - val_accuracy: 0.5429\n",
            "Epoch 18/50\n",
            "13/13 [==============================] - 33s 2s/step - loss: 0.6735 - accuracy: 0.7915 - val_loss: 1.4940 - val_accuracy: 0.5619\n",
            "Epoch 19/50\n",
            "13/13 [==============================] - 33s 2s/step - loss: 0.6024 - accuracy: 0.7963 - val_loss: 1.7837 - val_accuracy: 0.5333\n",
            "Epoch 20/50\n",
            "13/13 [==============================] - 35s 3s/step - loss: 0.5090 - accuracy: 0.8381 - val_loss: 1.4990 - val_accuracy: 0.5905\n",
            "Epoch 21/50\n",
            "13/13 [==============================] - 33s 3s/step - loss: 0.6010 - accuracy: 0.8077 - val_loss: 1.4854 - val_accuracy: 0.5524\n",
            "Epoch 22/50\n",
            "13/13 [==============================] - 33s 2s/step - loss: 0.4962 - accuracy: 0.8389 - val_loss: 1.5132 - val_accuracy: 0.6095\n",
            "Epoch 23/50\n",
            "13/13 [==============================] - 33s 2s/step - loss: 0.4348 - accuracy: 0.8635 - val_loss: 1.8237 - val_accuracy: 0.5048\n",
            "Epoch 24/50\n",
            "13/13 [==============================] - 33s 2s/step - loss: 0.4575 - accuracy: 0.8515 - val_loss: 1.6264 - val_accuracy: 0.6476\n",
            "Epoch 25/50\n",
            "13/13 [==============================] - 33s 2s/step - loss: 0.4373 - accuracy: 0.8413 - val_loss: 1.5678 - val_accuracy: 0.5905\n",
            "Epoch 26/50\n",
            "13/13 [==============================] - 33s 2s/step - loss: 0.4065 - accuracy: 0.8597 - val_loss: 1.7090 - val_accuracy: 0.6000\n",
            "Epoch 27/50\n",
            "13/13 [==============================] - 33s 2s/step - loss: 0.3547 - accuracy: 0.8816 - val_loss: 1.7252 - val_accuracy: 0.6476\n",
            "Epoch 28/50\n",
            "13/13 [==============================] - 33s 2s/step - loss: 0.3685 - accuracy: 0.8818 - val_loss: 1.7271 - val_accuracy: 0.6190\n",
            "Epoch 29/50\n",
            "13/13 [==============================] - 33s 2s/step - loss: 0.2993 - accuracy: 0.8874 - val_loss: 1.6644 - val_accuracy: 0.6000\n",
            "Epoch 30/50\n",
            "13/13 [==============================] - 33s 2s/step - loss: 0.1876 - accuracy: 0.9399 - val_loss: 2.1633 - val_accuracy: 0.6190\n",
            "Epoch 31/50\n",
            "13/13 [==============================] - 33s 2s/step - loss: 0.3325 - accuracy: 0.8525 - val_loss: 2.0555 - val_accuracy: 0.6571\n",
            "Epoch 32/50\n",
            "13/13 [==============================] - 33s 2s/step - loss: 0.3098 - accuracy: 0.9001 - val_loss: 2.0874 - val_accuracy: 0.6667\n",
            "Epoch 33/50\n",
            "13/13 [==============================] - 33s 2s/step - loss: 0.3533 - accuracy: 0.8918 - val_loss: 1.6557 - val_accuracy: 0.6095\n",
            "Epoch 34/50\n",
            "13/13 [==============================] - 32s 2s/step - loss: 0.2872 - accuracy: 0.8931 - val_loss: 2.0508 - val_accuracy: 0.6000\n",
            "Epoch 35/50\n",
            "13/13 [==============================] - 32s 2s/step - loss: 0.2761 - accuracy: 0.9203 - val_loss: 1.7966 - val_accuracy: 0.6190\n",
            "Epoch 36/50\n",
            "13/13 [==============================] - 32s 2s/step - loss: 0.2584 - accuracy: 0.8934 - val_loss: 1.7753 - val_accuracy: 0.5429\n",
            "Epoch 37/50\n",
            "13/13 [==============================] - 33s 2s/step - loss: 0.2175 - accuracy: 0.9367 - val_loss: 1.6995 - val_accuracy: 0.6095\n",
            "Epoch 38/50\n",
            "13/13 [==============================] - 33s 2s/step - loss: 0.2022 - accuracy: 0.9366 - val_loss: 1.7960 - val_accuracy: 0.6381\n",
            "Epoch 39/50\n",
            "13/13 [==============================] - 32s 2s/step - loss: 0.1876 - accuracy: 0.9281 - val_loss: 1.7482 - val_accuracy: 0.6667\n",
            "Epoch 40/50\n",
            "13/13 [==============================] - 33s 2s/step - loss: 0.1248 - accuracy: 0.9642 - val_loss: 1.8038 - val_accuracy: 0.6571\n",
            "Epoch 41/50\n",
            "13/13 [==============================] - 33s 2s/step - loss: 0.0838 - accuracy: 0.9852 - val_loss: 1.7825 - val_accuracy: 0.6571\n",
            "Epoch 42/50\n",
            "13/13 [==============================] - 33s 2s/step - loss: 0.1026 - accuracy: 0.9729 - val_loss: 2.1430 - val_accuracy: 0.6286\n",
            "Epoch 43/50\n",
            "13/13 [==============================] - 33s 2s/step - loss: 0.1687 - accuracy: 0.9593 - val_loss: 2.2683 - val_accuracy: 0.6095\n",
            "Epoch 44/50\n",
            "13/13 [==============================] - 33s 2s/step - loss: 0.1946 - accuracy: 0.9457 - val_loss: 1.7739 - val_accuracy: 0.5810\n",
            "Epoch 45/50\n",
            "13/13 [==============================] - 33s 2s/step - loss: 0.1752 - accuracy: 0.9504 - val_loss: 1.8364 - val_accuracy: 0.7238\n",
            "Epoch 46/50\n",
            "13/13 [==============================] - 33s 2s/step - loss: 0.1382 - accuracy: 0.9568 - val_loss: 1.7533 - val_accuracy: 0.6095\n",
            "Epoch 47/50\n",
            "13/13 [==============================] - 33s 2s/step - loss: 0.1241 - accuracy: 0.9554 - val_loss: 1.7861 - val_accuracy: 0.6381\n",
            "Epoch 48/50\n",
            "13/13 [==============================] - 33s 2s/step - loss: 0.1477 - accuracy: 0.9452 - val_loss: 1.9450 - val_accuracy: 0.6095\n",
            "Epoch 49/50\n",
            "13/13 [==============================] - 33s 2s/step - loss: 0.1447 - accuracy: 0.9424 - val_loss: 2.0153 - val_accuracy: 0.6667\n",
            "Epoch 50/50\n",
            "13/13 [==============================] - 33s 2s/step - loss: 0.1375 - accuracy: 0.9444 - val_loss: 1.9968 - val_accuracy: 0.6381\n"
          ],
          "name": "stdout"
        }
      ]
    },
    {
      "cell_type": "code",
      "metadata": {
        "colab": {
          "base_uri": "https://localhost:8080/",
          "height": 573
        },
        "id": "sISuSyxjlla_",
        "outputId": "6465e626-9fd3-43f7-f0ec-3e49ba4d1ae5"
      },
      "source": [
        "plt.plot(history1.history['accuracy'])\n",
        "plt.plot(history1.history['val_accuracy'])\n",
        "plt.title('model accuracy')\n",
        "plt.ylabel('accuracy')\n",
        "plt.xlabel('epoch')\n",
        "plt.legend(['train', 'test'], loc='upper left')\n",
        "plt.show()\n",
        "# summarize history for loss\n",
        "plt.plot(history1.history['loss'])\n",
        "plt.plot(history1.history['val_loss'])\n",
        "plt.title('model loss')\n",
        "plt.ylabel('loss')\n",
        "plt.xlabel('epoch')\n",
        "plt.legend(['train', 'test'], loc='upper left')\n",
        "plt.show()"
      ],
      "execution_count": null,
      "outputs": [
        {
          "output_type": "display_data",
          "data": {
            "image/png": "[encoded data removed]",
            "text/plain": [
              "<Figure size 432x288 with 1 Axes>"
            ]
          },
          "metadata": {
            "tags": []
          }
        },
        {
          "output_type": "display_data",
          "data": {
            "image/png": "[encoded data removed]",
            "text/plain": [
              "<Figure size 432x288 with 1 Axes>"
            ]
          },
          "metadata": {
            "tags": []
          }
        }
      ]
    },
    {
      "cell_type": "code",
      "metadata": {
        "colab": {
          "base_uri": "https://localhost:8080/"
        },
        "id": "UNiibqXpuP_-",
        "outputId": "4f3a5649-555a-4720-c0f9-d29cb283eb71"
      },
      "source": [
        "loss, accuracy = model.evaluate(test_set, verbose=1)\n",
        "print(\"LOSS: \",loss)\n",
        "print(\"ACCURACY: \",accuracy)"
      ],
      "execution_count": null,
      "outputs": [
        {
          "output_type": "stream",
          "text": [
            "5/5 [==============================] - 3s 468ms/step - loss: 1.9333 - accuracy: 0.6512\n",
            "LOSS:  1.9333492517471313\n",
            "ACCURACY:  0.6511628031730652\n"
          ],
          "name": "stdout"
        }
      ]
    },
    {
      "cell_type": "markdown",
      "metadata": {
        "id": "QiFiytZ2Dje7"
      },
      "source": [
        "##### Model 3 - 60%\n",
        "Note that removal of conv layers decreases accuracy"
      ]
    },
    {
      "cell_type": "code",
      "metadata": {
        "colab": {
          "base_uri": "https://localhost:8080/"
        },
        "id": "D_ggCSe0uZFo",
        "outputId": "d7895991-f710-457d-e01e-f1e0ee70847d"
      },
      "source": [
        "from keras.layers import Dropout\n",
        "\n",
        "model3 = Sequential()\n",
        "model3.add(Conv2D(32, (3, 3), input_shape = (250, 250, 3), activation = 'relu'))\n",
        "model3.add(MaxPooling2D(pool_size = (2, 2)))\n",
        "\n",
        "model3.add(Conv2D(64, (3, 3), activation = 'relu'))\n",
        "model3.add(MaxPooling2D(pool_size = (2, 2)))\n",
        "\n",
        "model3.add(Flatten())\n",
        "\n",
        "model3.add(Dense(units = 256,activation=\"relu\"))\n",
        "model3.add(Dropout(0.2))\n",
        "model3.add(Dense(units = 256,activation='relu'))\n",
        "model3.add(Dropout(0.2))\n",
        "model3.add(Dense(units = 128, activation = 'relu'))\n",
        "model3.add(Dense(units = 14, activation = 'softmax'))\n",
        "\n",
        "print(model3.summary())\n",
        "\n",
        "model3.compile(optimizer = 'adam', loss = 'categorical_crossentropy', metrics = ['accuracy'])"
      ],
      "execution_count": null,
      "outputs": [
        {
          "output_type": "stream",
          "text": [
            "Model: \"sequential_8\"\n",
            "_________________________________________________________________\n",
            "Layer (type)                 Output Shape              Param #   \n",
            "=================================================================\n",
            "conv2d_8132 (Conv2D)         (None, 248, 248, 32)      896       \n",
            "_________________________________________________________________\n",
            "max_pooling2d_4076 (MaxPooli (None, 124, 124, 32)      0         \n",
            "_________________________________________________________________\n",
            "flatten_1359 (Flatten)       (None, 492032)            0         \n",
            "_________________________________________________________________\n",
            "dense_4753 (Dense)           (None, 256)               125960448 \n",
            "_________________________________________________________________\n",
            "dropout_10 (Dropout)         (None, 256)               0         \n",
            "_________________________________________________________________\n",
            "dense_4754 (Dense)           (None, 256)               65792     \n",
            "_________________________________________________________________\n",
            "dropout_11 (Dropout)         (None, 256)               0         \n",
            "_________________________________________________________________\n",
            "dense_4755 (Dense)           (None, 128)               32896     \n",
            "_________________________________________________________________\n",
            "dense_4756 (Dense)           (None, 14)                1806      \n",
            "=================================================================\n",
            "Total params: 126,061,838\n",
            "Trainable params: 126,061,838\n",
            "Non-trainable params: 0\n",
            "_________________________________________________________________\n",
            "None\n"
          ],
          "name": "stdout"
        }
      ]
    },
    {
      "cell_type": "code",
      "metadata": {
        "colab": {
          "base_uri": "https://localhost:8080/",
          "height": 1000
        },
        "id": "IRICEfrJ3oT9",
        "outputId": "39eeea25-7b09-41c9-a6ee-70e2d8bc34c1"
      },
      "source": [
        "#from keras.callbacks import EarlyStopping\n",
        "#es = EarlyStopping(monitor='val_loss', mode='min', verbose=1,patience= 10) #obtained only 60% on val data and 55% on test data\n",
        "history3 = model3.fit_generator(training_set, epochs = 60, validation_data = val_set)"
      ],
      "execution_count": null,
      "outputs": [
        {
          "output_type": "stream",
          "text": [
            "/usr/local/lib/python3.7/dist-packages/tensorflow/python/keras/engine/training.py:1844: UserWarning: `Model.fit_generator` is deprecated and will be removed in a future version. Please use `Model.fit`, which supports generators.\n",
            "  warnings.warn('`Model.fit_generator` is deprecated and '\n"
          ],
          "name": "stderr"
        },
        {
          "output_type": "stream",
          "text": [
            "Epoch 1/60\n",
            "13/13 [==============================] - 34s 2s/step - loss: 26.8629 - accuracy: 0.0460 - val_loss: 3.3861 - val_accuracy: 0.0571\n",
            "Epoch 2/60\n",
            "13/13 [==============================] - 32s 2s/step - loss: 3.9997 - accuracy: 0.0803 - val_loss: 2.6299 - val_accuracy: 0.0667\n",
            "Epoch 3/60\n",
            "13/13 [==============================] - 27s 2s/step - loss: 2.6843 - accuracy: 0.0535 - val_loss: 2.6535 - val_accuracy: 0.0571\n",
            "Epoch 4/60\n",
            "13/13 [==============================] - 27s 2s/step - loss: 2.6420 - accuracy: 0.0619 - val_loss: 2.6432 - val_accuracy: 0.0381\n",
            "Epoch 5/60\n",
            "13/13 [==============================] - 27s 2s/step - loss: 2.6410 - accuracy: 0.0832 - val_loss: 2.6432 - val_accuracy: 0.0381\n",
            "Epoch 6/60\n",
            "13/13 [==============================] - 27s 2s/step - loss: 2.6389 - accuracy: 0.0860 - val_loss: 2.6382 - val_accuracy: 0.0381\n",
            "Epoch 7/60\n",
            "13/13 [==============================] - 27s 2s/step - loss: 2.6360 - accuracy: 0.0782 - val_loss: 2.6428 - val_accuracy: 0.0381\n",
            "Epoch 8/60\n",
            "13/13 [==============================] - 27s 2s/step - loss: 2.6364 - accuracy: 0.0760 - val_loss: 2.6463 - val_accuracy: 0.1143\n",
            "Epoch 9/60\n",
            "13/13 [==============================] - 27s 2s/step - loss: 2.6318 - accuracy: 0.0619 - val_loss: 2.6425 - val_accuracy: 0.0381\n",
            "Epoch 10/60\n",
            "13/13 [==============================] - 27s 2s/step - loss: 2.6184 - accuracy: 0.0654 - val_loss: 2.6383 - val_accuracy: 0.0571\n",
            "Epoch 11/60\n",
            "13/13 [==============================] - 27s 2s/step - loss: 2.6267 - accuracy: 0.0797 - val_loss: 2.6454 - val_accuracy: 0.1048\n",
            "Epoch 12/60\n",
            "13/13 [==============================] - 27s 2s/step - loss: 2.6405 - accuracy: 0.0532 - val_loss: 2.6426 - val_accuracy: 0.0381\n",
            "Epoch 13/60\n",
            "13/13 [==============================] - 27s 2s/step - loss: 2.6212 - accuracy: 0.0682 - val_loss: 2.6443 - val_accuracy: 0.0381\n",
            "Epoch 14/60\n",
            "13/13 [==============================] - 27s 2s/step - loss: 2.6310 - accuracy: 0.0842 - val_loss: 2.6436 - val_accuracy: 0.0381\n",
            "Epoch 15/60\n",
            "13/13 [==============================] - 27s 2s/step - loss: 2.6269 - accuracy: 0.0818 - val_loss: 2.7859 - val_accuracy: 0.0381\n",
            "Epoch 16/60\n",
            "13/13 [==============================] - 27s 2s/step - loss: 2.7052 - accuracy: 0.0747 - val_loss: 2.6459 - val_accuracy: 0.0381\n",
            "Epoch 17/60\n",
            "13/13 [==============================] - 27s 2s/step - loss: 2.6348 - accuracy: 0.0884 - val_loss: 2.6464 - val_accuracy: 0.0476\n",
            "Epoch 18/60\n",
            "13/13 [==============================] - 27s 2s/step - loss: 2.6324 - accuracy: 0.0697 - val_loss: 2.6459 - val_accuracy: 0.0381\n",
            "Epoch 19/60\n",
            "13/13 [==============================] - 27s 2s/step - loss: 2.6238 - accuracy: 0.0687 - val_loss: 2.6456 - val_accuracy: 0.0476\n",
            "Epoch 20/60\n",
            "13/13 [==============================] - 27s 2s/step - loss: 2.6154 - accuracy: 0.0792 - val_loss: 2.6589 - val_accuracy: 0.0381\n",
            "Epoch 21/60\n",
            "13/13 [==============================] - 27s 2s/step - loss: 2.6467 - accuracy: 0.0639 - val_loss: 2.6382 - val_accuracy: 0.0381\n",
            "Epoch 22/60\n",
            "13/13 [==============================] - 27s 2s/step - loss: 2.6125 - accuracy: 0.0744 - val_loss: 2.6202 - val_accuracy: 0.0286\n",
            "Epoch 23/60\n",
            "11/13 [========================>.....] - ETA: 3s - loss: 2.6027 - accuracy: 0.0742"
          ],
          "name": "stdout"
        },
        {
          "output_type": "error",
          "ename": "KeyboardInterrupt",
          "evalue": "ignored",
          "traceback": [
            "\u001b[0;31m---------------------------------------------------------------------------\u001b[0m",
            "\u001b[0;31mKeyboardInterrupt\u001b[0m                         Traceback (most recent call last)",
            "\u001b[0;32m<ipython-input-63-1ef37bf476cd>\u001b[0m in \u001b[0;36m<module>\u001b[0;34m()\u001b[0m\n\u001b[1;32m      1\u001b[0m \u001b[0;31m#from keras.callbacks import EarlyStopping\u001b[0m\u001b[0;34m\u001b[0m\u001b[0;34m\u001b[0m\u001b[0;34m\u001b[0m\u001b[0m\n\u001b[1;32m      2\u001b[0m \u001b[0;31m#es = EarlyStopping(monitor='val_loss', mode='min', verbose=1,patience= 10) #obtained only 60% on val data and 55% on test data\u001b[0m\u001b[0;34m\u001b[0m\u001b[0;34m\u001b[0m\u001b[0;34m\u001b[0m\u001b[0m\n\u001b[0;32m----> 3\u001b[0;31m \u001b[0mhistory2\u001b[0m \u001b[0;34m=\u001b[0m \u001b[0mmodel1\u001b[0m\u001b[0;34m.\u001b[0m\u001b[0mfit_generator\u001b[0m\u001b[0;34m(\u001b[0m\u001b[0mtraining_set\u001b[0m\u001b[0;34m,\u001b[0m \u001b[0mepochs\u001b[0m \u001b[0;34m=\u001b[0m \u001b[0;36m60\u001b[0m\u001b[0;34m,\u001b[0m \u001b[0mvalidation_data\u001b[0m \u001b[0;34m=\u001b[0m \u001b[0mval_set\u001b[0m\u001b[0;34m)\u001b[0m\u001b[0;34m\u001b[0m\u001b[0;34m\u001b[0m\u001b[0m\n\u001b[0m",
            "\u001b[0;32m/usr/local/lib/python3.7/dist-packages/tensorflow/python/keras/engine/training.py\u001b[0m in \u001b[0;36mfit_generator\u001b[0;34m(self, generator, steps_per_epoch, epochs, verbose, callbacks, validation_data, validation_steps, validation_freq, class_weight, max_queue_size, workers, use_multiprocessing, shuffle, initial_epoch)\u001b[0m\n\u001b[1;32m   1859\u001b[0m         \u001b[0muse_multiprocessing\u001b[0m\u001b[0;34m=\u001b[0m\u001b[0muse_multiprocessing\u001b[0m\u001b[0;34m,\u001b[0m\u001b[0;34m\u001b[0m\u001b[0;34m\u001b[0m\u001b[0m\n\u001b[1;32m   1860\u001b[0m         \u001b[0mshuffle\u001b[0m\u001b[0;34m=\u001b[0m\u001b[0mshuffle\u001b[0m\u001b[0;34m,\u001b[0m\u001b[0;34m\u001b[0m\u001b[0;34m\u001b[0m\u001b[0m\n\u001b[0;32m-> 1861\u001b[0;31m         initial_epoch=initial_epoch)\n\u001b[0m\u001b[1;32m   1862\u001b[0m \u001b[0;34m\u001b[0m\u001b[0m\n\u001b[1;32m   1863\u001b[0m   def evaluate_generator(self,\n",
            "\u001b[0;32m/usr/local/lib/python3.7/dist-packages/tensorflow/python/keras/engine/training.py\u001b[0m in \u001b[0;36mfit\u001b[0;34m(self, x, y, batch_size, epochs, verbose, callbacks, validation_split, validation_data, shuffle, class_weight, sample_weight, initial_epoch, steps_per_epoch, validation_steps, validation_batch_size, validation_freq, max_queue_size, workers, use_multiprocessing)\u001b[0m\n\u001b[1;32m   1098\u001b[0m                 _r=1):\n\u001b[1;32m   1099\u001b[0m               \u001b[0mcallbacks\u001b[0m\u001b[0;34m.\u001b[0m\u001b[0mon_train_batch_begin\u001b[0m\u001b[0;34m(\u001b[0m\u001b[0mstep\u001b[0m\u001b[0;34m)\u001b[0m\u001b[0;34m\u001b[0m\u001b[0;34m\u001b[0m\u001b[0m\n\u001b[0;32m-> 1100\u001b[0;31m               \u001b[0mtmp_logs\u001b[0m \u001b[0;34m=\u001b[0m \u001b[0mself\u001b[0m\u001b[0;34m.\u001b[0m\u001b[0mtrain_function\u001b[0m\u001b[0;34m(\u001b[0m\u001b[0miterator\u001b[0m\u001b[0;34m)\u001b[0m\u001b[0;34m\u001b[0m\u001b[0;34m\u001b[0m\u001b[0m\n\u001b[0m\u001b[1;32m   1101\u001b[0m               \u001b[0;32mif\u001b[0m \u001b[0mdata_handler\u001b[0m\u001b[0;34m.\u001b[0m\u001b[0mshould_sync\u001b[0m\u001b[0;34m:\u001b[0m\u001b[0;34m\u001b[0m\u001b[0;34m\u001b[0m\u001b[0m\n\u001b[1;32m   1102\u001b[0m                 \u001b[0mcontext\u001b[0m\u001b[0;34m.\u001b[0m\u001b[0masync_wait\u001b[0m\u001b[0;34m(\u001b[0m\u001b[0;34m)\u001b[0m\u001b[0;34m\u001b[0m\u001b[0;34m\u001b[0m\u001b[0m\n",
            "\u001b[0;32m/usr/local/lib/python3.7/dist-packages/tensorflow/python/eager/def_function.py\u001b[0m in \u001b[0;36m__call__\u001b[0;34m(self, *args, **kwds)\u001b[0m\n\u001b[1;32m    826\u001b[0m     \u001b[0mtracing_count\u001b[0m \u001b[0;34m=\u001b[0m \u001b[0mself\u001b[0m\u001b[0;34m.\u001b[0m\u001b[0mexperimental_get_tracing_count\u001b[0m\u001b[0;34m(\u001b[0m\u001b[0;34m)\u001b[0m\u001b[0;34m\u001b[0m\u001b[0;34m\u001b[0m\u001b[0m\n\u001b[1;32m    827\u001b[0m     \u001b[0;32mwith\u001b[0m \u001b[0mtrace\u001b[0m\u001b[0;34m.\u001b[0m\u001b[0mTrace\u001b[0m\u001b[0;34m(\u001b[0m\u001b[0mself\u001b[0m\u001b[0;34m.\u001b[0m\u001b[0m_name\u001b[0m\u001b[0;34m)\u001b[0m \u001b[0;32mas\u001b[0m \u001b[0mtm\u001b[0m\u001b[0;34m:\u001b[0m\u001b[0;34m\u001b[0m\u001b[0;34m\u001b[0m\u001b[0m\n\u001b[0;32m--> 828\u001b[0;31m       \u001b[0mresult\u001b[0m \u001b[0;34m=\u001b[0m \u001b[0mself\u001b[0m\u001b[0;34m.\u001b[0m\u001b[0m_call\u001b[0m\u001b[0;34m(\u001b[0m\u001b[0;34m*\u001b[0m\u001b[0margs\u001b[0m\u001b[0;34m,\u001b[0m \u001b[0;34m**\u001b[0m\u001b[0mkwds\u001b[0m\u001b[0;34m)\u001b[0m\u001b[0;34m\u001b[0m\u001b[0;34m\u001b[0m\u001b[0m\n\u001b[0m\u001b[1;32m    829\u001b[0m       \u001b[0mcompiler\u001b[0m \u001b[0;34m=\u001b[0m \u001b[0;34m\"xla\"\u001b[0m \u001b[0;32mif\u001b[0m \u001b[0mself\u001b[0m\u001b[0;34m.\u001b[0m\u001b[0m_experimental_compile\u001b[0m \u001b[0;32melse\u001b[0m \u001b[0;34m\"nonXla\"\u001b[0m\u001b[0;34m\u001b[0m\u001b[0;34m\u001b[0m\u001b[0m\n\u001b[1;32m    830\u001b[0m       \u001b[0mnew_tracing_count\u001b[0m \u001b[0;34m=\u001b[0m \u001b[0mself\u001b[0m\u001b[0;34m.\u001b[0m\u001b[0mexperimental_get_tracing_count\u001b[0m\u001b[0;34m(\u001b[0m\u001b[0;34m)\u001b[0m\u001b[0;34m\u001b[0m\u001b[0;34m\u001b[0m\u001b[0m\n",
            "\u001b[0;32m/usr/local/lib/python3.7/dist-packages/tensorflow/python/eager/def_function.py\u001b[0m in \u001b[0;36m_call\u001b[0;34m(self, *args, **kwds)\u001b[0m\n\u001b[1;32m    853\u001b[0m       \u001b[0;31m# In this case we have created variables on the first call, so we run the\u001b[0m\u001b[0;34m\u001b[0m\u001b[0;34m\u001b[0m\u001b[0;34m\u001b[0m\u001b[0m\n\u001b[1;32m    854\u001b[0m       \u001b[0;31m# defunned version which is guaranteed to never create variables.\u001b[0m\u001b[0;34m\u001b[0m\u001b[0;34m\u001b[0m\u001b[0;34m\u001b[0m\u001b[0m\n\u001b[0;32m--> 855\u001b[0;31m       \u001b[0;32mreturn\u001b[0m \u001b[0mself\u001b[0m\u001b[0;34m.\u001b[0m\u001b[0m_stateless_fn\u001b[0m\u001b[0;34m(\u001b[0m\u001b[0;34m*\u001b[0m\u001b[0margs\u001b[0m\u001b[0;34m,\u001b[0m \u001b[0;34m**\u001b[0m\u001b[0mkwds\u001b[0m\u001b[0;34m)\u001b[0m  \u001b[0;31m# pylint: disable=not-callable\u001b[0m\u001b[0;34m\u001b[0m\u001b[0;34m\u001b[0m\u001b[0m\n\u001b[0m\u001b[1;32m    856\u001b[0m     \u001b[0;32melif\u001b[0m \u001b[0mself\u001b[0m\u001b[0;34m.\u001b[0m\u001b[0m_stateful_fn\u001b[0m \u001b[0;32mis\u001b[0m \u001b[0;32mnot\u001b[0m \u001b[0;32mNone\u001b[0m\u001b[0;34m:\u001b[0m\u001b[0;34m\u001b[0m\u001b[0;34m\u001b[0m\u001b[0m\n\u001b[1;32m    857\u001b[0m       \u001b[0;31m# Release the lock early so that multiple threads can perform the call\u001b[0m\u001b[0;34m\u001b[0m\u001b[0;34m\u001b[0m\u001b[0;34m\u001b[0m\u001b[0m\n",
            "\u001b[0;32m/usr/local/lib/python3.7/dist-packages/tensorflow/python/eager/function.py\u001b[0m in \u001b[0;36m__call__\u001b[0;34m(self, *args, **kwargs)\u001b[0m\n\u001b[1;32m   2941\u001b[0m        filtered_flat_args) = self._maybe_define_function(args, kwargs)\n\u001b[1;32m   2942\u001b[0m     return graph_function._call_flat(\n\u001b[0;32m-> 2943\u001b[0;31m         filtered_flat_args, captured_inputs=graph_function.captured_inputs)  # pylint: disable=protected-access\n\u001b[0m\u001b[1;32m   2944\u001b[0m \u001b[0;34m\u001b[0m\u001b[0m\n\u001b[1;32m   2945\u001b[0m   \u001b[0;34m@\u001b[0m\u001b[0mproperty\u001b[0m\u001b[0;34m\u001b[0m\u001b[0;34m\u001b[0m\u001b[0m\n",
            "\u001b[0;32m/usr/local/lib/python3.7/dist-packages/tensorflow/python/eager/function.py\u001b[0m in \u001b[0;36m_call_flat\u001b[0;34m(self, args, captured_inputs, cancellation_manager)\u001b[0m\n\u001b[1;32m   1917\u001b[0m       \u001b[0;31m# No tape is watching; skip to running the function.\u001b[0m\u001b[0;34m\u001b[0m\u001b[0;34m\u001b[0m\u001b[0;34m\u001b[0m\u001b[0m\n\u001b[1;32m   1918\u001b[0m       return self._build_call_outputs(self._inference_function.call(\n\u001b[0;32m-> 1919\u001b[0;31m           ctx, args, cancellation_manager=cancellation_manager))\n\u001b[0m\u001b[1;32m   1920\u001b[0m     forward_backward = self._select_forward_and_backward_functions(\n\u001b[1;32m   1921\u001b[0m         \u001b[0margs\u001b[0m\u001b[0;34m,\u001b[0m\u001b[0;34m\u001b[0m\u001b[0;34m\u001b[0m\u001b[0m\n",
            "\u001b[0;32m/usr/local/lib/python3.7/dist-packages/tensorflow/python/eager/function.py\u001b[0m in \u001b[0;36mcall\u001b[0;34m(self, ctx, args, cancellation_manager)\u001b[0m\n\u001b[1;32m    558\u001b[0m               \u001b[0minputs\u001b[0m\u001b[0;34m=\u001b[0m\u001b[0margs\u001b[0m\u001b[0;34m,\u001b[0m\u001b[0;34m\u001b[0m\u001b[0;34m\u001b[0m\u001b[0m\n\u001b[1;32m    559\u001b[0m               \u001b[0mattrs\u001b[0m\u001b[0;34m=\u001b[0m\u001b[0mattrs\u001b[0m\u001b[0;34m,\u001b[0m\u001b[0;34m\u001b[0m\u001b[0;34m\u001b[0m\u001b[0m\n\u001b[0;32m--> 560\u001b[0;31m               ctx=ctx)\n\u001b[0m\u001b[1;32m    561\u001b[0m         \u001b[0;32melse\u001b[0m\u001b[0;34m:\u001b[0m\u001b[0;34m\u001b[0m\u001b[0;34m\u001b[0m\u001b[0m\n\u001b[1;32m    562\u001b[0m           outputs = execute.execute_with_cancellation(\n",
            "\u001b[0;32m/usr/local/lib/python3.7/dist-packages/tensorflow/python/eager/execute.py\u001b[0m in \u001b[0;36mquick_execute\u001b[0;34m(op_name, num_outputs, inputs, attrs, ctx, name)\u001b[0m\n\u001b[1;32m     58\u001b[0m     \u001b[0mctx\u001b[0m\u001b[0;34m.\u001b[0m\u001b[0mensure_initialized\u001b[0m\u001b[0;34m(\u001b[0m\u001b[0;34m)\u001b[0m\u001b[0;34m\u001b[0m\u001b[0;34m\u001b[0m\u001b[0m\n\u001b[1;32m     59\u001b[0m     tensors = pywrap_tfe.TFE_Py_Execute(ctx._handle, device_name, op_name,\n\u001b[0;32m---> 60\u001b[0;31m                                         inputs, attrs, num_outputs)\n\u001b[0m\u001b[1;32m     61\u001b[0m   \u001b[0;32mexcept\u001b[0m \u001b[0mcore\u001b[0m\u001b[0;34m.\u001b[0m\u001b[0m_NotOkStatusException\u001b[0m \u001b[0;32mas\u001b[0m \u001b[0me\u001b[0m\u001b[0;34m:\u001b[0m\u001b[0;34m\u001b[0m\u001b[0;34m\u001b[0m\u001b[0m\n\u001b[1;32m     62\u001b[0m     \u001b[0;32mif\u001b[0m \u001b[0mname\u001b[0m \u001b[0;32mis\u001b[0m \u001b[0;32mnot\u001b[0m \u001b[0;32mNone\u001b[0m\u001b[0;34m:\u001b[0m\u001b[0;34m\u001b[0m\u001b[0;34m\u001b[0m\u001b[0m\n",
            "\u001b[0;31mKeyboardInterrupt\u001b[0m: "
          ]
        }
      ]
    },
    {
      "cell_type": "code",
      "metadata": {
        "colab": {
          "base_uri": "https://localhost:8080/",
          "height": 573
        },
        "id": "2sRdZnoI4nMV",
        "outputId": "f8701660-0cd7-44b7-993a-fe84c56e6c1b"
      },
      "source": [
        "plt.plot(history3.history['accuracy'])\n",
        "plt.plot(history3.history['val_accuracy'])\n",
        "plt.title('model accuracy')\n",
        "plt.ylabel('accuracy')\n",
        "plt.xlabel('epoch')\n",
        "plt.legend(['train', 'test'], loc='upper left')\n",
        "plt.show()\n",
        "# summarize history for loss\n",
        "plt.plot(history3.history['loss'])\n",
        "plt.plot(history3.history['val_loss'])\n",
        "plt.title('model loss')\n",
        "plt.ylabel('loss')\n",
        "plt.xlabel('epoch')\n",
        "plt.legend(['train', 'test'], loc='upper left')\n",
        "plt.show()"
      ],
      "execution_count": null,
      "outputs": [
        {
          "output_type": "display_data",
          "data": {
            "image/png": "[encoded data removed]",
            "text/plain": [
              "<Figure size 432x288 with 1 Axes>"
            ]
          },
          "metadata": {
            "tags": []
          }
        },
        {
          "output_type": "display_data",
          "data": {
            "image/png": "[encoded data removed]",
            "text/plain": [
              "<Figure size 432x288 with 1 Axes>"
            ]
          },
          "metadata": {
            "tags": []
          }
        }
      ]
    },
    {
      "cell_type": "code",
      "metadata": {
        "colab": {
          "base_uri": "https://localhost:8080/"
        },
        "id": "I3pG_OWNBux1",
        "outputId": "9e398e55-d0b6-4d7b-ad58-107efad262ef"
      },
      "source": [
        "loss, accuracy = model3.evaluate(test_set, verbose=1)\n",
        "print(\"LOSS: \",loss)\n",
        "print(\"ACCURACY: \",accuracy)"
      ],
      "execution_count": null,
      "outputs": [
        {
          "output_type": "stream",
          "text": [
            "5/5 [==============================] - 3s 551ms/step - loss: 1.5814 - accuracy: 0.6047\n",
            "LOSS:  1.5813555717468262\n",
            "ACCURACY:  0.604651153087616\n"
          ],
          "name": "stdout"
        }
      ]
    },
    {
      "cell_type": "markdown",
      "metadata": {
        "id": "-8XP5DgAmiHv"
      },
      "source": [
        "##### Model4 using transfer learning - 94.5% accuracy"
      ]
    },
    {
      "cell_type": "code",
      "metadata": {
        "id": "MJbgb0_mmgfc"
      },
      "source": [
        "from keras.layers import BatchNormalization, Conv2D,Flatten,MaxPooling2D,Dropout\n",
        "from keras import regularizers\n",
        "from keras.optimizers import SGD,Adam\n",
        "from keras.callbacks import ReduceLROnPlateau"
      ],
      "execution_count": null,
      "outputs": []
    },
    {
      "cell_type": "code",
      "metadata": {
        "id": "WoMIcEw1qcR-"
      },
      "source": [
        "from keras.applications.vgg19 import VGG19\n",
        "\n",
        "lrr= ReduceLROnPlateau(monitor='val_acc', factor=.01, patience=3, min_lr=1e-5)\n",
        "base_model = VGG19(include_top = False, weights = 'imagenet', input_shape = (150,150,3), classes = 14)"
      ],
      "execution_count": null,
      "outputs": []
    },
    {
      "cell_type": "code",
      "metadata": {
        "colab": {
          "base_uri": "https://localhost:8080/"
        },
        "id": "4cche24jrZxm",
        "outputId": "a6726e2a-bd62-412e-bf53-944570da7039"
      },
      "source": [
        "model4= Sequential()\n",
        "model4.add(base_model) \n",
        "model4.add(Flatten()) \n",
        "\n",
        "model4.add(Dense(1024,activation=('relu')))\n",
        "model4.add(Dense(512,activation=('relu'))) \n",
        "model4.add(Dense(256,activation=('relu'))) \n",
        "model4.add(Dropout(.3))\n",
        "model4.add(Dense(128,activation=('relu')))\n",
        "#model.add(Dropout(.2))\n",
        "model4.add(Dense(14,activation=('softmax'))) \n",
        "\n",
        "#Checking the final model summary\n",
        "model4.summary()"
      ],
      "execution_count": null,
      "outputs": [
        {
          "output_type": "stream",
          "text": [
            "Model: \"sequential_3\"\n",
            "_________________________________________________________________\n",
            "Layer (type)                 Output Shape              Param #   \n",
            "=================================================================\n",
            "vgg19 (Functional)           (None, 4, 4, 512)         20024384  \n",
            "_________________________________________________________________\n",
            "flatten_1349 (Flatten)       (None, 8192)              0         \n",
            "_________________________________________________________________\n",
            "dense_4720 (Dense)           (None, 1024)              8389632   \n",
            "_________________________________________________________________\n",
            "dense_4721 (Dense)           (None, 512)               524800    \n",
            "_________________________________________________________________\n",
            "dense_4722 (Dense)           (None, 256)               131328    \n",
            "_________________________________________________________________\n",
            "dropout_7 (Dropout)          (None, 256)               0         \n",
            "_________________________________________________________________\n",
            "dense_4723 (Dense)           (None, 128)               32896     \n",
            "_________________________________________________________________\n",
            "dense_4724 (Dense)           (None, 14)                1806      \n",
            "=================================================================\n",
            "Total params: 29,104,846\n",
            "Trainable params: 29,104,846\n",
            "Non-trainable params: 0\n",
            "_________________________________________________________________\n"
          ],
          "name": "stdout"
        }
      ]
    },
    {
      "cell_type": "code",
      "metadata": {
        "id": "XQy6ZTIkm2TA"
      },
      "source": [
        "batch_size= 100\n",
        "epochs=50\n",
        "learn_rate=.001\n",
        "sgd=SGD(lr=learn_rate,momentum=.9,nesterov=False)\n",
        "adam=Adam(lr=learn_rate, beta_1=0.9, beta_2=0.999, epsilon=None, decay=0.0, amsgrad=False)\n",
        "model4.compile(optimizer=sgd,loss='categorical_crossentropy',metrics=['accuracy'])"
      ],
      "execution_count": null,
      "outputs": []
    },
    {
      "cell_type": "code",
      "metadata": {
        "colab": {
          "base_uri": "https://localhost:8080/"
        },
        "id": "uHpmZrUEsLPq",
        "outputId": "df43622c-619d-41e9-e0ed-506895eced79"
      },
      "source": [
        "history4 = model4.fit(training_set,epochs = epochs, validation_data = val_set, callbacks=[lrr], verbose = 1)"
      ],
      "execution_count": null,
      "outputs": [
        {
          "output_type": "stream",
          "text": [
            "Epoch 1/50\n",
            "13/13 [==============================] - 17s 824ms/step - loss: 2.7001 - accuracy: 0.0490 - val_loss: 2.6631 - val_accuracy: 0.0495\n",
            "Epoch 2/50\n",
            "13/13 [==============================] - 4s 290ms/step - loss: 2.6413 - accuracy: 0.1083 - val_loss: 2.6242 - val_accuracy: 0.1485\n",
            "Epoch 3/50\n",
            "13/13 [==============================] - 4s 277ms/step - loss: 2.6128 - accuracy: 0.0946 - val_loss: 2.6005 - val_accuracy: 0.0693\n",
            "Epoch 4/50\n",
            "13/13 [==============================] - 4s 279ms/step - loss: 2.5581 - accuracy: 0.1424 - val_loss: 2.5002 - val_accuracy: 0.1782\n",
            "Epoch 5/50\n",
            "13/13 [==============================] - 4s 280ms/step - loss: 2.4785 - accuracy: 0.2035 - val_loss: 2.3476 - val_accuracy: 0.2871\n",
            "Epoch 6/50\n",
            "13/13 [==============================] - 4s 280ms/step - loss: 2.2876 - accuracy: 0.2550 - val_loss: 2.1526 - val_accuracy: 0.3366\n",
            "Epoch 7/50\n",
            "13/13 [==============================] - 4s 282ms/step - loss: 2.2012 - accuracy: 0.2686 - val_loss: 1.9917 - val_accuracy: 0.3762\n",
            "Epoch 8/50\n",
            "13/13 [==============================] - 4s 281ms/step - loss: 1.9881 - accuracy: 0.3720 - val_loss: 1.7227 - val_accuracy: 0.4059\n",
            "Epoch 9/50\n",
            "13/13 [==============================] - 4s 282ms/step - loss: 1.5926 - accuracy: 0.4940 - val_loss: 1.7722 - val_accuracy: 0.4455\n",
            "Epoch 10/50\n",
            "13/13 [==============================] - 4s 281ms/step - loss: 1.5830 - accuracy: 0.4851 - val_loss: 1.2941 - val_accuracy: 0.6040\n",
            "Epoch 11/50\n",
            "13/13 [==============================] - 4s 282ms/step - loss: 1.0935 - accuracy: 0.6449 - val_loss: 1.2877 - val_accuracy: 0.5545\n",
            "Epoch 12/50\n",
            "13/13 [==============================] - 4s 282ms/step - loss: 0.9829 - accuracy: 0.6396 - val_loss: 1.0772 - val_accuracy: 0.6733\n",
            "Epoch 13/50\n",
            "13/13 [==============================] - 4s 281ms/step - loss: 0.9732 - accuracy: 0.6978 - val_loss: 1.0424 - val_accuracy: 0.6535\n",
            "Epoch 14/50\n",
            "13/13 [==============================] - 4s 279ms/step - loss: 0.8192 - accuracy: 0.7278 - val_loss: 0.8207 - val_accuracy: 0.7030\n",
            "Epoch 15/50\n",
            "13/13 [==============================] - 4s 278ms/step - loss: 0.8024 - accuracy: 0.7547 - val_loss: 0.7945 - val_accuracy: 0.7723\n",
            "Epoch 16/50\n",
            "13/13 [==============================] - 4s 280ms/step - loss: 0.7309 - accuracy: 0.7855 - val_loss: 0.6631 - val_accuracy: 0.7426\n",
            "Epoch 17/50\n",
            "13/13 [==============================] - 4s 282ms/step - loss: 0.4832 - accuracy: 0.8387 - val_loss: 0.6444 - val_accuracy: 0.8119\n",
            "Epoch 18/50\n",
            "13/13 [==============================] - 4s 279ms/step - loss: 0.5222 - accuracy: 0.8637 - val_loss: 0.4443 - val_accuracy: 0.8614\n",
            "Epoch 19/50\n",
            "13/13 [==============================] - 4s 279ms/step - loss: 0.4200 - accuracy: 0.8811 - val_loss: 0.3914 - val_accuracy: 0.8713\n",
            "Epoch 20/50\n",
            "13/13 [==============================] - 4s 280ms/step - loss: 0.2359 - accuracy: 0.9267 - val_loss: 0.3209 - val_accuracy: 0.9109\n",
            "Epoch 21/50\n",
            "13/13 [==============================] - 4s 277ms/step - loss: 0.2010 - accuracy: 0.9285 - val_loss: 0.4727 - val_accuracy: 0.8713\n",
            "Epoch 22/50\n",
            "13/13 [==============================] - 4s 278ms/step - loss: 0.1544 - accuracy: 0.9463 - val_loss: 0.4066 - val_accuracy: 0.8812\n",
            "Epoch 23/50\n",
            "13/13 [==============================] - 4s 285ms/step - loss: 0.1302 - accuracy: 0.9560 - val_loss: 0.5106 - val_accuracy: 0.8713\n",
            "Epoch 24/50\n",
            "13/13 [==============================] - 4s 279ms/step - loss: 0.1521 - accuracy: 0.9525 - val_loss: 0.3918 - val_accuracy: 0.9010\n",
            "Epoch 25/50\n",
            "13/13 [==============================] - 4s 281ms/step - loss: 0.1291 - accuracy: 0.9628 - val_loss: 0.3993 - val_accuracy: 0.9010\n",
            "Epoch 26/50\n",
            "13/13 [==============================] - 4s 280ms/step - loss: 0.0724 - accuracy: 0.9768 - val_loss: 0.2955 - val_accuracy: 0.9406\n",
            "Epoch 27/50\n",
            "13/13 [==============================] - 4s 283ms/step - loss: 0.1236 - accuracy: 0.9624 - val_loss: 0.3341 - val_accuracy: 0.9208\n",
            "Epoch 28/50\n",
            "13/13 [==============================] - 4s 281ms/step - loss: 0.0649 - accuracy: 0.9836 - val_loss: 0.4250 - val_accuracy: 0.9109\n",
            "Epoch 29/50\n",
            "13/13 [==============================] - 4s 288ms/step - loss: 0.0768 - accuracy: 0.9747 - val_loss: 0.4668 - val_accuracy: 0.8713\n",
            "Epoch 30/50\n",
            "13/13 [==============================] - 4s 280ms/step - loss: 0.1072 - accuracy: 0.9724 - val_loss: 0.5273 - val_accuracy: 0.8614\n",
            "Epoch 31/50\n",
            "13/13 [==============================] - 4s 284ms/step - loss: 0.1293 - accuracy: 0.9496 - val_loss: 0.6089 - val_accuracy: 0.8713\n",
            "Epoch 32/50\n",
            "13/13 [==============================] - 4s 281ms/step - loss: 0.0976 - accuracy: 0.9779 - val_loss: 0.3973 - val_accuracy: 0.9010\n",
            "Epoch 33/50\n",
            "13/13 [==============================] - 4s 282ms/step - loss: 0.0958 - accuracy: 0.9584 - val_loss: 0.3798 - val_accuracy: 0.9307\n",
            "Epoch 34/50\n",
            "13/13 [==============================] - 4s 287ms/step - loss: 0.0960 - accuracy: 0.9690 - val_loss: 0.3942 - val_accuracy: 0.9010\n",
            "Epoch 35/50\n",
            "13/13 [==============================] - 4s 282ms/step - loss: 0.0287 - accuracy: 0.9883 - val_loss: 0.3395 - val_accuracy: 0.9208\n",
            "Epoch 36/50\n",
            "13/13 [==============================] - 4s 281ms/step - loss: 0.0250 - accuracy: 0.9966 - val_loss: 0.3824 - val_accuracy: 0.9208\n",
            "Epoch 37/50\n",
            "13/13 [==============================] - 4s 282ms/step - loss: 0.0285 - accuracy: 0.9854 - val_loss: 0.4581 - val_accuracy: 0.9109\n",
            "Epoch 38/50\n",
            "13/13 [==============================] - 4s 283ms/step - loss: 0.0120 - accuracy: 0.9966 - val_loss: 0.5228 - val_accuracy: 0.9307\n",
            "Epoch 39/50\n",
            "13/13 [==============================] - 4s 284ms/step - loss: 0.0240 - accuracy: 0.9931 - val_loss: 0.6519 - val_accuracy: 0.8911\n",
            "Epoch 40/50\n",
            "13/13 [==============================] - 4s 280ms/step - loss: 0.0313 - accuracy: 0.9923 - val_loss: 0.5962 - val_accuracy: 0.8515\n",
            "Epoch 41/50\n",
            "13/13 [==============================] - 4s 280ms/step - loss: 0.0937 - accuracy: 0.9592 - val_loss: 0.6692 - val_accuracy: 0.8812\n",
            "Epoch 42/50\n",
            "13/13 [==============================] - 4s 279ms/step - loss: 0.0673 - accuracy: 0.9770 - val_loss: 0.3289 - val_accuracy: 0.9406\n",
            "Epoch 43/50\n",
            "13/13 [==============================] - 4s 281ms/step - loss: 0.0196 - accuracy: 0.9978 - val_loss: 0.3018 - val_accuracy: 0.9505\n",
            "Epoch 44/50\n",
            "13/13 [==============================] - 4s 279ms/step - loss: 0.0544 - accuracy: 0.9734 - val_loss: 0.4238 - val_accuracy: 0.8911\n",
            "Epoch 45/50\n",
            "13/13 [==============================] - 4s 283ms/step - loss: 0.0733 - accuracy: 0.9839 - val_loss: 0.2818 - val_accuracy: 0.9010\n",
            "Epoch 46/50\n",
            "13/13 [==============================] - 4s 279ms/step - loss: 0.0417 - accuracy: 0.9905 - val_loss: 0.2909 - val_accuracy: 0.9505\n",
            "Epoch 47/50\n",
            "13/13 [==============================] - 4s 283ms/step - loss: 0.0149 - accuracy: 0.9972 - val_loss: 0.3555 - val_accuracy: 0.9604\n",
            "Epoch 48/50\n",
            "13/13 [==============================] - 4s 279ms/step - loss: 0.0403 - accuracy: 0.9829 - val_loss: 0.3011 - val_accuracy: 0.9109\n",
            "Epoch 49/50\n",
            "13/13 [==============================] - 4s 283ms/step - loss: 0.0301 - accuracy: 0.9906 - val_loss: 0.5196 - val_accuracy: 0.8911\n",
            "Epoch 50/50\n",
            "13/13 [==============================] - 4s 280ms/step - loss: 0.0080 - accuracy: 0.9961 - val_loss: 0.4193 - val_accuracy: 0.9208\n"
          ],
          "name": "stdout"
        }
      ]
    },
    {
      "cell_type": "code",
      "metadata": {
        "colab": {
          "base_uri": "https://localhost:8080/",
          "height": 573
        },
        "id": "7dATq4Otm-CP",
        "outputId": "9843b5c5-f569-4989-cd4b-27251c0517b9"
      },
      "source": [
        "plt.plot(history4.history['accuracy'])\n",
        "plt.plot(history4.history['val_accuracy'])\n",
        "plt.title('model accuracy')\n",
        "plt.ylabel('accuracy')\n",
        "plt.xlabel('epoch')\n",
        "plt.legend(['train', 'test'], loc='upper left')\n",
        "plt.show()\n",
        "# summarize history for loss\n",
        "plt.plot(history4.history['loss'])\n",
        "plt.plot(history4.history['val_loss'])\n",
        "plt.title('model loss')\n",
        "plt.ylabel('loss')\n",
        "plt.xlabel('epoch')\n",
        "plt.legend(['train', 'test'], loc='upper left')\n",
        "plt.show()"
      ],
      "execution_count": null,
      "outputs": [
        {
          "output_type": "display_data",
          "data": {
            "image/png": "[encoded data removed]",
            "text/plain": [
              "<Figure size 432x288 with 1 Axes>"
            ]
          },
          "metadata": {
            "tags": [],
            "needs_background": "light"
          }
        },
        {
          "output_type": "display_data",
          "data": {
            "image/png": "[encoded data removed]",
            "text/plain": [
              "<Figure size 432x288 with 1 Axes>"
            ]
          },
          "metadata": {
            "tags": [],
            "needs_background": "light"
          }
        }
      ]
    },
    {
      "cell_type": "code",
      "metadata": {
        "colab": {
          "base_uri": "https://localhost:8080/"
        },
        "id": "Ytw2f6m5nD7h",
        "outputId": "c99a7588-b906-468f-d48b-131dfefbf4fa"
      },
      "source": [
        "loss, accuracy = model4.evaluate(test_set, verbose=1)\n",
        "print(\"LOSS: \",loss)\n",
        "print(\"ACCURACY: \",accuracy)"
      ],
      "execution_count": null,
      "outputs": [
        {
          "output_type": "stream",
          "text": [
            "5/5 [==============================] - 1s 211ms/step - loss: 0.2544 - accuracy: 0.9457\n",
            "LOSS:  0.2543565034866333\n",
            "ACCURACY:  0.9457364082336426\n"
          ],
          "name": "stdout"
        }
      ]
    },
    {
      "cell_type": "code",
      "metadata": {
        "id": "NmozSObc147H"
      },
      "source": [
        "!mkdir -p saved_model\n",
        "model4.save('saved_model/best_model')"
      ],
      "execution_count": null,
      "outputs": []
    },
    {
      "cell_type": "code",
      "metadata": {
        "colab": {
          "base_uri": "https://localhost:8080/"
        },
        "id": "cLj85ej5GZ31",
        "outputId": "c9652ac7-af29-4597-9bde-fa4e60e97745"
      },
      "source": [
        "#!ls saved_model\n",
        "!ls saved_model/best_model"
      ],
      "execution_count": null,
      "outputs": [
        {
          "output_type": "stream",
          "text": [
            "assets\tsaved_model.pb\tvariables\n"
          ],
          "name": "stdout"
        }
      ]
    },
    {
      "cell_type": "code",
      "metadata": {
        "id": "PtMRY0c4GrFd"
      },
      "source": [
        "model_json = model4.to_json()\n",
        "#with open(\"/content/lfw_model.json\",\"w\") as json_file:\n",
        "#    json_file.write(model_json)\n",
        "model4.save_weights(\"/content/lfw_model.h5\")"
      ],
      "execution_count": null,
      "outputs": []
    },
    {
      "cell_type": "markdown",
      "metadata": {
        "id": "580-dIXzojfV"
      },
      "source": [
        "##### Model5 with 88% accuracy "
      ]
    },
    {
      "cell_type": "code",
      "metadata": {
        "colab": {
          "base_uri": "https://localhost:8080/"
        },
        "id": "-U7OpEOXOPCD",
        "outputId": "afef4690-3c43-413e-cd6f-54d63d2cec18"
      },
      "source": [
        "model5= Sequential()\n",
        "model5.add(base_model) \n",
        "model5.add(Flatten()) \n",
        "\n",
        "model5.add(Dense(1024,activation=('relu')))\n",
        "model5.add(Dense(512,activation=('relu'))) \n",
        "model5.add(Dense(256,activation=('relu')))\n",
        "model5.add(Dense(256,activation=('relu'))) \n",
        "model5.add(Dropout(.3))\n",
        "model5.add(Dense(128,activation=('relu')))\n",
        "#model.add(Dropout(.2))\n",
        "model5.add(Dense(14,activation=('softmax'))) \n",
        "\n",
        "#Checking the final model summary\n",
        "model5.summary()"
      ],
      "execution_count": null,
      "outputs": [
        {
          "output_type": "stream",
          "text": [
            "Model: \"sequential_1\"\n",
            "_________________________________________________________________\n",
            "Layer (type)                 Output Shape              Param #   \n",
            "=================================================================\n",
            "vgg19 (Functional)           (None, 7, 7, 512)         20024384  \n",
            "_________________________________________________________________\n",
            "flatten_1347 (Flatten)       (None, 25088)             0         \n",
            "_________________________________________________________________\n",
            "dense_4716 (Dense)           (None, 1024)              25691136  \n",
            "_________________________________________________________________\n",
            "dense_4717 (Dense)           (None, 512)               524800    \n",
            "_________________________________________________________________\n",
            "dense_4718 (Dense)           (None, 256)               131328    \n",
            "_________________________________________________________________\n",
            "dense_4719 (Dense)           (None, 256)               65792     \n",
            "_________________________________________________________________\n",
            "dropout_1 (Dropout)          (None, 256)               0         \n",
            "_________________________________________________________________\n",
            "dense_4720 (Dense)           (None, 128)               32896     \n",
            "_________________________________________________________________\n",
            "dense_4721 (Dense)           (None, 14)                1806      \n",
            "=================================================================\n",
            "Total params: 46,472,142\n",
            "Trainable params: 46,472,142\n",
            "Non-trainable params: 0\n",
            "_________________________________________________________________\n"
          ],
          "name": "stdout"
        }
      ]
    },
    {
      "cell_type": "code",
      "metadata": {
        "id": "IRx5ECpbgsRk"
      },
      "source": [
        "batch_size= 100\n",
        "epochs=50\n",
        "learn_rate=.001\n",
        "sgd=SGD(lr=learn_rate,momentum=.9,nesterov=False)\n",
        "adam=Adam(lr=learn_rate, beta_1=0.9, beta_2=0.999, epsilon=None, decay=0.0, amsgrad=False)\n",
        "model5.compile(optimizer=sgd,loss='categorical_crossentropy',metrics=['accuracy'])"
      ],
      "execution_count": null,
      "outputs": []
    },
    {
      "cell_type": "code",
      "metadata": {
        "colab": {
          "base_uri": "https://localhost:8080/"
        },
        "id": "tPWa09hXg8oY",
        "outputId": "403fe787-2828-4888-8c30-e8d8be9ddb30"
      },
      "source": [
        "history5 = model5.fit(training_set,epochs = epochs, validation_data = val_set, callbacks=[lrr], verbose = 1)"
      ],
      "execution_count": null,
      "outputs": [
        {
          "output_type": "stream",
          "text": [
            "Epoch 1/50\n",
            "13/13 [==============================] - 38s 2s/step - loss: 2.6812 - accuracy: 0.0620 - val_loss: 2.6421 - val_accuracy: 0.0762\n",
            "Epoch 2/50\n",
            "13/13 [==============================] - 10s 718ms/step - loss: 2.6477 - accuracy: 0.0906 - val_loss: 2.6609 - val_accuracy: 0.0381\n",
            "Epoch 3/50\n",
            "13/13 [==============================] - 9s 709ms/step - loss: 2.6513 - accuracy: 0.0645 - val_loss: 2.6656 - val_accuracy: 0.0381\n",
            "Epoch 4/50\n",
            "13/13 [==============================] - 9s 706ms/step - loss: 2.6375 - accuracy: 0.0688 - val_loss: 2.6507 - val_accuracy: 0.0857\n",
            "Epoch 5/50\n",
            "13/13 [==============================] - 9s 704ms/step - loss: 2.6320 - accuracy: 0.0824 - val_loss: 2.6413 - val_accuracy: 0.0571\n",
            "Epoch 6/50\n",
            "13/13 [==============================] - 9s 711ms/step - loss: 2.6165 - accuracy: 0.0868 - val_loss: 2.6172 - val_accuracy: 0.1048\n",
            "Epoch 7/50\n",
            "13/13 [==============================] - 9s 701ms/step - loss: 2.5824 - accuracy: 0.1250 - val_loss: 2.5852 - val_accuracy: 0.1238\n",
            "Epoch 8/50\n",
            "13/13 [==============================] - 9s 701ms/step - loss: 2.5528 - accuracy: 0.1484 - val_loss: 2.5995 - val_accuracy: 0.0571\n",
            "Epoch 9/50\n",
            "13/13 [==============================] - 10s 712ms/step - loss: 2.5352 - accuracy: 0.1274 - val_loss: 2.4944 - val_accuracy: 0.1619\n",
            "Epoch 10/50\n",
            "13/13 [==============================] - 10s 722ms/step - loss: 2.4684 - accuracy: 0.1654 - val_loss: 2.4739 - val_accuracy: 0.1333\n",
            "Epoch 11/50\n",
            "13/13 [==============================] - 10s 710ms/step - loss: 2.3576 - accuracy: 0.2007 - val_loss: 2.3332 - val_accuracy: 0.1810\n",
            "Epoch 12/50\n",
            "13/13 [==============================] - 9s 708ms/step - loss: 2.2105 - accuracy: 0.2896 - val_loss: 2.1805 - val_accuracy: 0.2095\n",
            "Epoch 13/50\n",
            "13/13 [==============================] - 10s 711ms/step - loss: 1.9997 - accuracy: 0.3377 - val_loss: 2.0891 - val_accuracy: 0.2000\n",
            "Epoch 14/50\n",
            "13/13 [==============================] - 9s 702ms/step - loss: 1.9422 - accuracy: 0.3495 - val_loss: 1.8939 - val_accuracy: 0.3238\n",
            "Epoch 15/50\n",
            "13/13 [==============================] - 9s 698ms/step - loss: 1.7336 - accuracy: 0.3858 - val_loss: 1.6729 - val_accuracy: 0.4571\n",
            "Epoch 16/50\n",
            "13/13 [==============================] - 9s 707ms/step - loss: 1.8459 - accuracy: 0.3811 - val_loss: 1.5273 - val_accuracy: 0.4952\n",
            "Epoch 17/50\n",
            "13/13 [==============================] - 10s 711ms/step - loss: 1.3663 - accuracy: 0.5226 - val_loss: 1.2206 - val_accuracy: 0.5905\n",
            "Epoch 18/50\n",
            "13/13 [==============================] - 9s 708ms/step - loss: 1.1663 - accuracy: 0.6010 - val_loss: 1.3149 - val_accuracy: 0.5714\n",
            "Epoch 19/50\n",
            "13/13 [==============================] - 10s 715ms/step - loss: 1.1891 - accuracy: 0.6147 - val_loss: 1.2904 - val_accuracy: 0.5714\n",
            "Epoch 20/50\n",
            "13/13 [==============================] - 10s 713ms/step - loss: 0.8132 - accuracy: 0.7455 - val_loss: 1.3266 - val_accuracy: 0.5524\n",
            "Epoch 21/50\n",
            "13/13 [==============================] - 9s 715ms/step - loss: 1.1952 - accuracy: 0.6045 - val_loss: 1.1251 - val_accuracy: 0.6476\n",
            "Epoch 22/50\n",
            "13/13 [==============================] - 9s 703ms/step - loss: 0.7437 - accuracy: 0.7252 - val_loss: 0.8475 - val_accuracy: 0.7619\n",
            "Epoch 23/50\n",
            "13/13 [==============================] - 9s 701ms/step - loss: 0.6567 - accuracy: 0.7910 - val_loss: 1.5096 - val_accuracy: 0.6095\n",
            "Epoch 24/50\n",
            "13/13 [==============================] - 9s 708ms/step - loss: 0.6908 - accuracy: 0.7568 - val_loss: 0.8383 - val_accuracy: 0.7238\n",
            "Epoch 25/50\n",
            "13/13 [==============================] - 9s 709ms/step - loss: 0.3769 - accuracy: 0.8822 - val_loss: 0.6531 - val_accuracy: 0.8095\n",
            "Epoch 26/50\n",
            "13/13 [==============================] - 9s 707ms/step - loss: 0.5523 - accuracy: 0.8284 - val_loss: 0.9338 - val_accuracy: 0.7143\n",
            "Epoch 27/50\n",
            "13/13 [==============================] - 10s 714ms/step - loss: 0.6194 - accuracy: 0.8042 - val_loss: 1.1926 - val_accuracy: 0.6667\n",
            "Epoch 28/50\n",
            "13/13 [==============================] - 9s 709ms/step - loss: 0.4123 - accuracy: 0.8768 - val_loss: 0.6284 - val_accuracy: 0.8571\n",
            "Epoch 29/50\n",
            "13/13 [==============================] - 9s 705ms/step - loss: 0.3301 - accuracy: 0.8780 - val_loss: 1.0358 - val_accuracy: 0.6667\n",
            "Epoch 30/50\n",
            "13/13 [==============================] - 10s 714ms/step - loss: 0.4376 - accuracy: 0.8613 - val_loss: 0.6984 - val_accuracy: 0.7905\n",
            "Epoch 31/50\n",
            "13/13 [==============================] - 9s 707ms/step - loss: 0.3188 - accuracy: 0.9159 - val_loss: 0.6691 - val_accuracy: 0.8381\n",
            "Epoch 32/50\n",
            "13/13 [==============================] - 10s 712ms/step - loss: 0.2020 - accuracy: 0.9241 - val_loss: 0.7931 - val_accuracy: 0.8381\n",
            "Epoch 33/50\n",
            "13/13 [==============================] - 10s 711ms/step - loss: 0.2333 - accuracy: 0.9208 - val_loss: 0.5282 - val_accuracy: 0.8381\n",
            "Epoch 34/50\n",
            "13/13 [==============================] - 10s 710ms/step - loss: 0.1944 - accuracy: 0.9409 - val_loss: 0.8328 - val_accuracy: 0.7429\n",
            "Epoch 35/50\n",
            "13/13 [==============================] - 9s 706ms/step - loss: 0.1634 - accuracy: 0.9417 - val_loss: 0.8571 - val_accuracy: 0.7905\n",
            "Epoch 36/50\n",
            "13/13 [==============================] - 10s 723ms/step - loss: 0.2639 - accuracy: 0.9162 - val_loss: 0.7799 - val_accuracy: 0.7810\n",
            "Epoch 37/50\n",
            "13/13 [==============================] - 10s 711ms/step - loss: 0.1431 - accuracy: 0.9478 - val_loss: 0.7530 - val_accuracy: 0.8095\n",
            "Epoch 38/50\n",
            "13/13 [==============================] - 9s 703ms/step - loss: 0.1081 - accuracy: 0.9628 - val_loss: 0.6833 - val_accuracy: 0.8286\n",
            "Epoch 39/50\n",
            "13/13 [==============================] - 9s 717ms/step - loss: 0.0837 - accuracy: 0.9782 - val_loss: 0.6210 - val_accuracy: 0.8190\n",
            "Epoch 40/50\n",
            "13/13 [==============================] - 9s 708ms/step - loss: 0.1236 - accuracy: 0.9641 - val_loss: 0.6379 - val_accuracy: 0.8571\n",
            "Epoch 41/50\n",
            "13/13 [==============================] - 9s 708ms/step - loss: 0.0641 - accuracy: 0.9822 - val_loss: 1.0247 - val_accuracy: 0.8286\n",
            "Epoch 42/50\n",
            "13/13 [==============================] - 9s 708ms/step - loss: 0.0531 - accuracy: 0.9813 - val_loss: 1.2711 - val_accuracy: 0.7429\n",
            "Epoch 43/50\n",
            "13/13 [==============================] - 10s 711ms/step - loss: 0.2120 - accuracy: 0.9336 - val_loss: 0.6898 - val_accuracy: 0.8381\n",
            "Epoch 44/50\n",
            "13/13 [==============================] - 9s 702ms/step - loss: 0.1403 - accuracy: 0.9511 - val_loss: 0.7987 - val_accuracy: 0.8286\n",
            "Epoch 45/50\n",
            "13/13 [==============================] - 9s 706ms/step - loss: 0.1676 - accuracy: 0.9545 - val_loss: 0.4940 - val_accuracy: 0.8857\n",
            "Epoch 46/50\n",
            "13/13 [==============================] - 9s 706ms/step - loss: 0.0922 - accuracy: 0.9666 - val_loss: 0.7019 - val_accuracy: 0.8000\n",
            "Epoch 47/50\n",
            "13/13 [==============================] - 9s 706ms/step - loss: 0.1338 - accuracy: 0.9496 - val_loss: 0.4750 - val_accuracy: 0.8381\n",
            "Epoch 48/50\n",
            "13/13 [==============================] - 10s 711ms/step - loss: 0.0819 - accuracy: 0.9723 - val_loss: 0.8558 - val_accuracy: 0.7905\n",
            "Epoch 49/50\n",
            "13/13 [==============================] - 9s 707ms/step - loss: 0.0702 - accuracy: 0.9779 - val_loss: 0.7824 - val_accuracy: 0.8095\n",
            "Epoch 50/50\n",
            "13/13 [==============================] - 10s 716ms/step - loss: 0.0337 - accuracy: 0.9932 - val_loss: 0.6093 - val_accuracy: 0.8571\n"
          ],
          "name": "stdout"
        }
      ]
    },
    {
      "cell_type": "code",
      "metadata": {
        "colab": {
          "base_uri": "https://localhost:8080/",
          "height": 573
        },
        "id": "zArlhUD_hDNQ",
        "outputId": "ff7f0546-889f-4c86-963f-8c85f8666d5e"
      },
      "source": [
        "plt.plot(history5.history['accuracy'])\n",
        "plt.plot(history5.history['val_accuracy'])\n",
        "plt.title('model accuracy')\n",
        "plt.ylabel('accuracy')\n",
        "plt.xlabel('epoch')\n",
        "plt.legend(['train', 'test'], loc='upper left')\n",
        "plt.show()\n",
        "# summarize history for loss\n",
        "plt.plot(history5.history['loss'])\n",
        "plt.plot(history5.history['val_loss'])\n",
        "plt.title('model loss')\n",
        "plt.ylabel('loss')\n",
        "plt.xlabel('epoch')\n",
        "plt.legend(['train', 'test'], loc='upper left')\n",
        "plt.show()"
      ],
      "execution_count": null,
      "outputs": [
        {
          "output_type": "display_data",
          "data": {
            "image/png": "[encoded data removed]",
            "text/plain": [
              "<Figure size 432x288 with 1 Axes>"
            ]
          },
          "metadata": {
            "tags": []
          }
        },
        {
          "output_type": "display_data",
          "data": {
            "image/png": "[encoded data removed]",
            "text/plain": [
              "<Figure size 432x288 with 1 Axes>"
            ]
          },
          "metadata": {
            "tags": []
          }
        }
      ]
    },
    {
      "cell_type": "code",
      "metadata": {
        "colab": {
          "base_uri": "https://localhost:8080/"
        },
        "id": "3yeelvBehLp3",
        "outputId": "ac131e6c-3adf-4b0e-e666-15f82ada07a2"
      },
      "source": [
        "loss, accuracy = model5.evaluate(test_set, verbose=1)\n",
        "print(\"LOSS: \",loss)\n",
        "print(\"ACCURACY: \",accuracy)"
      ],
      "execution_count": null,
      "outputs": [
        {
          "output_type": "stream",
          "text": [
            "4/4 [==============================] - 8s 3s/step - loss: 0.3454 - accuracy: 0.8819\n",
            "LOSS:  0.34539759159088135\n",
            "ACCURACY:  0.8818897604942322\n"
          ],
          "name": "stdout"
        }
      ]
    },
    {
      "cell_type": "code",
      "metadata": {
        "id": "Frc5geV1poX_"
      },
      "source": [
        "model5.save('/content/my_model.h5')"
      ],
      "execution_count": null,
      "outputs": []
    },
    {
      "cell_type": "markdown",
      "metadata": {
        "id": "8-V772ZFxfKm"
      },
      "source": [
        "#####Model 6 - 56% accuracy"
      ]
    },
    {
      "cell_type": "code",
      "metadata": {
        "colab": {
          "base_uri": "https://localhost:8080/"
        },
        "id": "3U5z1J5NxhDE",
        "outputId": "4006ffb9-3c75-483a-d644-33455eb610da"
      },
      "source": [
        "from keras import regularizers\n",
        "from keras.models import Sequential\n",
        "from keras.layers import Dense, Dropout, Conv2D, MaxPooling2D, Flatten, BatchNormalization\n",
        "\n",
        "input_shape = (150,150,3)\n",
        "\n",
        "model6 = Sequential()\n",
        "\n",
        "model6.add(Conv2D(16, kernel_size=(3, 3),\n",
        "                  activation='relu',\n",
        "                  kernel_regularizer=regularizers.l2(0.),\n",
        "                  activity_regularizer=regularizers.l2(0.),\n",
        "                  input_shape=input_shape))\n",
        "\n",
        "model6.add(MaxPooling2D(pool_size=(2, 2)))\n",
        "model6.add(BatchNormalization())\n",
        "model6.add(Dropout(0.25))\n",
        "\n",
        "model6.add(Conv2D(32, kernel_size=(3, 3),\n",
        "                  activation='relu',\n",
        "                  kernel_regularizer=regularizers.l2(0.),\n",
        "                  activity_regularizer=regularizers.l2(0.)))\n",
        "\n",
        "model6.add(MaxPooling2D(pool_size=(2, 2)))\n",
        "model6.add(BatchNormalization())\n",
        "model6.add(Dropout(0.25))\n",
        "\n",
        "model6.add(Flatten())\n",
        "\n",
        "model6.add(Dense(3000, activation='relu',\n",
        "                kernel_regularizer=regularizers.l2(0.),\n",
        "                activity_regularizer=regularizers.l2(0.)))\n",
        "\n",
        "model6.add(Dropout(0.25))\n",
        "model6.add(Dense(14, activation='softmax'))\n",
        "\n",
        "model6.summary()"
      ],
      "execution_count": null,
      "outputs": [
        {
          "output_type": "stream",
          "text": [
            "Model: \"sequential_7\"\n",
            "_________________________________________________________________\n",
            "Layer (type)                 Output Shape              Param #   \n",
            "=================================================================\n",
            "conv2d_8086 (Conv2D)         (None, 148, 148, 16)      448       \n",
            "_________________________________________________________________\n",
            "max_pooling2d_4048 (MaxPooli (None, 74, 74, 16)        0         \n",
            "_________________________________________________________________\n",
            "batch_normalization_10 (Batc (None, 74, 74, 16)        64        \n",
            "_________________________________________________________________\n",
            "dropout_17 (Dropout)         (None, 74, 74, 16)        0         \n",
            "_________________________________________________________________\n",
            "conv2d_8087 (Conv2D)         (None, 72, 72, 32)        4640      \n",
            "_________________________________________________________________\n",
            "max_pooling2d_4049 (MaxPooli (None, 36, 36, 32)        0         \n",
            "_________________________________________________________________\n",
            "batch_normalization_11 (Batc (None, 36, 36, 32)        128       \n",
            "_________________________________________________________________\n",
            "dropout_18 (Dropout)         (None, 36, 36, 32)        0         \n",
            "_________________________________________________________________\n",
            "flatten_1353 (Flatten)       (None, 41472)             0         \n",
            "_________________________________________________________________\n",
            "dense_4731 (Dense)           (None, 3000)              124419000 \n",
            "_________________________________________________________________\n",
            "dropout_19 (Dropout)         (None, 3000)              0         \n",
            "_________________________________________________________________\n",
            "dense_4732 (Dense)           (None, 14)                42014     \n",
            "=================================================================\n",
            "Total params: 124,466,294\n",
            "Trainable params: 124,466,198\n",
            "Non-trainable params: 96\n",
            "_________________________________________________________________\n"
          ],
          "name": "stdout"
        }
      ]
    },
    {
      "cell_type": "code",
      "metadata": {
        "id": "xnXwqsK1xpXe"
      },
      "source": [
        "model6.compile(loss='categorical_crossentropy', optimizer='adam', metrics=['accuracy'])"
      ],
      "execution_count": null,
      "outputs": []
    },
    {
      "cell_type": "code",
      "metadata": {
        "colab": {
          "base_uri": "https://localhost:8080/"
        },
        "id": "8S1guidkx1zD",
        "outputId": "55af6244-1dfb-437e-abb9-d89a723cdc87"
      },
      "source": [
        "history6 = model6.fit(training_set,epochs = 60, validation_data = val_set, verbose = 1)"
      ],
      "execution_count": null,
      "outputs": [
        {
          "output_type": "stream",
          "text": [
            "Epoch 1/60\n",
            "13/13 [==============================] - 4s 202ms/step - loss: 32.3490 - accuracy: 0.1616 - val_loss: 6.0592 - val_accuracy: 0.1089\n",
            "Epoch 2/60\n",
            "13/13 [==============================] - 2s 185ms/step - loss: 10.3486 - accuracy: 0.4238 - val_loss: 6.8263 - val_accuracy: 0.0594\n",
            "Epoch 3/60\n",
            "13/13 [==============================] - 2s 182ms/step - loss: 6.0348 - accuracy: 0.5056 - val_loss: 7.8001 - val_accuracy: 0.0594\n",
            "Epoch 4/60\n",
            "13/13 [==============================] - 2s 183ms/step - loss: 3.4619 - accuracy: 0.6369 - val_loss: 7.3744 - val_accuracy: 0.0495\n",
            "Epoch 5/60\n",
            "13/13 [==============================] - 2s 182ms/step - loss: 2.7936 - accuracy: 0.6703 - val_loss: 10.1743 - val_accuracy: 0.0594\n",
            "Epoch 6/60\n",
            "13/13 [==============================] - 2s 181ms/step - loss: 1.9018 - accuracy: 0.7710 - val_loss: 20.6547 - val_accuracy: 0.0495\n",
            "Epoch 7/60\n",
            "13/13 [==============================] - 2s 182ms/step - loss: 1.7082 - accuracy: 0.7612 - val_loss: 13.3614 - val_accuracy: 0.1089\n",
            "Epoch 8/60\n",
            "13/13 [==============================] - 2s 183ms/step - loss: 1.5416 - accuracy: 0.7669 - val_loss: 12.6066 - val_accuracy: 0.0495\n",
            "Epoch 9/60\n",
            "13/13 [==============================] - 2s 182ms/step - loss: 0.9333 - accuracy: 0.8176 - val_loss: 8.4062 - val_accuracy: 0.1881\n",
            "Epoch 10/60\n",
            "13/13 [==============================] - 2s 181ms/step - loss: 1.1409 - accuracy: 0.8242 - val_loss: 16.8909 - val_accuracy: 0.0990\n",
            "Epoch 11/60\n",
            "13/13 [==============================] - 2s 185ms/step - loss: 0.8809 - accuracy: 0.8332 - val_loss: 14.5921 - val_accuracy: 0.1386\n",
            "Epoch 12/60\n",
            "13/13 [==============================] - 2s 183ms/step - loss: 0.6818 - accuracy: 0.8701 - val_loss: 15.7207 - val_accuracy: 0.0792\n",
            "Epoch 13/60\n",
            "13/13 [==============================] - 2s 181ms/step - loss: 0.9566 - accuracy: 0.8504 - val_loss: 14.8202 - val_accuracy: 0.1584\n",
            "Epoch 14/60\n",
            "13/13 [==============================] - 2s 181ms/step - loss: 0.9369 - accuracy: 0.8612 - val_loss: 13.0016 - val_accuracy: 0.1386\n",
            "Epoch 15/60\n",
            "13/13 [==============================] - 2s 182ms/step - loss: 0.9297 - accuracy: 0.8633 - val_loss: 14.6706 - val_accuracy: 0.1881\n",
            "Epoch 16/60\n",
            "13/13 [==============================] - 2s 184ms/step - loss: 1.0427 - accuracy: 0.8453 - val_loss: 27.2286 - val_accuracy: 0.0792\n",
            "Epoch 17/60\n",
            "13/13 [==============================] - 2s 185ms/step - loss: 1.1445 - accuracy: 0.8681 - val_loss: 18.5921 - val_accuracy: 0.1386\n",
            "Epoch 18/60\n",
            "13/13 [==============================] - 2s 182ms/step - loss: 0.9677 - accuracy: 0.8512 - val_loss: 21.2467 - val_accuracy: 0.0693\n",
            "Epoch 19/60\n",
            "13/13 [==============================] - 2s 183ms/step - loss: 1.0293 - accuracy: 0.8567 - val_loss: 17.4987 - val_accuracy: 0.2079\n",
            "Epoch 20/60\n",
            "13/13 [==============================] - 2s 183ms/step - loss: 0.4715 - accuracy: 0.8965 - val_loss: 20.1710 - val_accuracy: 0.1584\n",
            "Epoch 21/60\n",
            "13/13 [==============================] - 2s 190ms/step - loss: 0.8429 - accuracy: 0.8766 - val_loss: 24.8447 - val_accuracy: 0.0594\n",
            "Epoch 22/60\n",
            "13/13 [==============================] - 2s 186ms/step - loss: 0.6572 - accuracy: 0.9070 - val_loss: 26.7704 - val_accuracy: 0.1089\n",
            "Epoch 23/60\n",
            "13/13 [==============================] - 2s 188ms/step - loss: 1.1014 - accuracy: 0.9055 - val_loss: 27.8940 - val_accuracy: 0.0495\n",
            "Epoch 24/60\n",
            "13/13 [==============================] - 2s 191ms/step - loss: 1.0255 - accuracy: 0.8573 - val_loss: 18.7643 - val_accuracy: 0.1188\n",
            "Epoch 25/60\n",
            "13/13 [==============================] - 2s 188ms/step - loss: 0.9322 - accuracy: 0.9011 - val_loss: 31.7350 - val_accuracy: 0.1089\n",
            "Epoch 26/60\n",
            "13/13 [==============================] - 2s 185ms/step - loss: 1.1828 - accuracy: 0.8742 - val_loss: 17.7659 - val_accuracy: 0.1287\n",
            "Epoch 27/60\n",
            "13/13 [==============================] - 2s 183ms/step - loss: 0.9171 - accuracy: 0.8822 - val_loss: 37.8386 - val_accuracy: 0.0891\n",
            "Epoch 28/60\n",
            "13/13 [==============================] - 2s 183ms/step - loss: 1.3997 - accuracy: 0.8731 - val_loss: 30.1234 - val_accuracy: 0.1683\n",
            "Epoch 29/60\n",
            "13/13 [==============================] - 2s 184ms/step - loss: 1.3790 - accuracy: 0.8509 - val_loss: 14.5062 - val_accuracy: 0.2277\n",
            "Epoch 30/60\n",
            "13/13 [==============================] - 2s 191ms/step - loss: 0.5089 - accuracy: 0.9291 - val_loss: 25.1925 - val_accuracy: 0.1287\n",
            "Epoch 31/60\n",
            "13/13 [==============================] - 3s 199ms/step - loss: 0.9006 - accuracy: 0.9083 - val_loss: 17.7027 - val_accuracy: 0.2178\n",
            "Epoch 32/60\n",
            "13/13 [==============================] - 3s 195ms/step - loss: 0.8979 - accuracy: 0.8907 - val_loss: 20.7418 - val_accuracy: 0.2673\n",
            "Epoch 33/60\n",
            "13/13 [==============================] - 2s 189ms/step - loss: 1.0526 - accuracy: 0.8677 - val_loss: 13.9595 - val_accuracy: 0.3465\n",
            "Epoch 34/60\n",
            "13/13 [==============================] - 2s 182ms/step - loss: 0.8219 - accuracy: 0.9127 - val_loss: 21.9770 - val_accuracy: 0.2277\n",
            "Epoch 35/60\n",
            "13/13 [==============================] - 2s 184ms/step - loss: 1.4763 - accuracy: 0.8769 - val_loss: 20.3514 - val_accuracy: 0.2574\n",
            "Epoch 36/60\n",
            "13/13 [==============================] - 2s 185ms/step - loss: 2.2249 - accuracy: 0.8480 - val_loss: 16.7930 - val_accuracy: 0.3861\n",
            "Epoch 37/60\n",
            "13/13 [==============================] - 2s 183ms/step - loss: 1.6828 - accuracy: 0.8627 - val_loss: 55.8419 - val_accuracy: 0.0792\n",
            "Epoch 38/60\n",
            "13/13 [==============================] - 2s 185ms/step - loss: 2.2408 - accuracy: 0.8284 - val_loss: 34.6159 - val_accuracy: 0.1386\n",
            "Epoch 39/60\n",
            "13/13 [==============================] - 2s 184ms/step - loss: 1.0767 - accuracy: 0.8754 - val_loss: 25.7032 - val_accuracy: 0.1782\n",
            "Epoch 40/60\n",
            "13/13 [==============================] - 2s 183ms/step - loss: 1.0582 - accuracy: 0.8861 - val_loss: 17.6860 - val_accuracy: 0.3366\n",
            "Epoch 41/60\n",
            "13/13 [==============================] - 2s 185ms/step - loss: 1.1426 - accuracy: 0.8943 - val_loss: 11.4365 - val_accuracy: 0.3960\n",
            "Epoch 42/60\n",
            "13/13 [==============================] - 2s 183ms/step - loss: 1.3132 - accuracy: 0.9103 - val_loss: 14.3054 - val_accuracy: 0.3564\n",
            "Epoch 43/60\n",
            "13/13 [==============================] - 2s 183ms/step - loss: 1.1051 - accuracy: 0.8645 - val_loss: 20.4631 - val_accuracy: 0.3465\n",
            "Epoch 44/60\n",
            "13/13 [==============================] - 2s 182ms/step - loss: 0.8246 - accuracy: 0.9132 - val_loss: 24.8755 - val_accuracy: 0.3168\n",
            "Epoch 45/60\n",
            "13/13 [==============================] - 2s 183ms/step - loss: 0.5784 - accuracy: 0.9340 - val_loss: 24.1993 - val_accuracy: 0.3663\n",
            "Epoch 46/60\n",
            "13/13 [==============================] - 2s 184ms/step - loss: 1.1243 - accuracy: 0.9032 - val_loss: 14.1642 - val_accuracy: 0.3564\n",
            "Epoch 47/60\n",
            "13/13 [==============================] - 2s 182ms/step - loss: 1.1297 - accuracy: 0.9001 - val_loss: 21.8235 - val_accuracy: 0.4653\n",
            "Epoch 48/60\n",
            "13/13 [==============================] - 2s 183ms/step - loss: 1.5811 - accuracy: 0.9200 - val_loss: 18.4396 - val_accuracy: 0.2673\n",
            "Epoch 49/60\n",
            "13/13 [==============================] - 2s 183ms/step - loss: 1.0935 - accuracy: 0.9092 - val_loss: 21.6821 - val_accuracy: 0.3465\n",
            "Epoch 50/60\n",
            "13/13 [==============================] - 2s 184ms/step - loss: 1.5214 - accuracy: 0.8876 - val_loss: 15.6027 - val_accuracy: 0.4059\n",
            "Epoch 51/60\n",
            "13/13 [==============================] - 2s 184ms/step - loss: 1.2937 - accuracy: 0.8979 - val_loss: 16.2643 - val_accuracy: 0.4356\n",
            "Epoch 52/60\n",
            "13/13 [==============================] - 2s 183ms/step - loss: 0.8811 - accuracy: 0.8988 - val_loss: 31.9122 - val_accuracy: 0.3762\n",
            "Epoch 53/60\n",
            "13/13 [==============================] - 2s 184ms/step - loss: 1.0209 - accuracy: 0.9140 - val_loss: 24.7543 - val_accuracy: 0.3267\n",
            "Epoch 54/60\n",
            "13/13 [==============================] - 2s 183ms/step - loss: 1.3453 - accuracy: 0.8891 - val_loss: 18.3392 - val_accuracy: 0.4356\n",
            "Epoch 55/60\n",
            "13/13 [==============================] - 2s 185ms/step - loss: 1.7151 - accuracy: 0.9077 - val_loss: 13.5295 - val_accuracy: 0.4851\n",
            "Epoch 56/60\n",
            "13/13 [==============================] - 2s 186ms/step - loss: 0.6535 - accuracy: 0.9372 - val_loss: 19.6390 - val_accuracy: 0.3960\n",
            "Epoch 57/60\n",
            "13/13 [==============================] - 2s 183ms/step - loss: 1.0051 - accuracy: 0.9038 - val_loss: 14.5334 - val_accuracy: 0.4752\n",
            "Epoch 58/60\n",
            "13/13 [==============================] - 2s 184ms/step - loss: 0.8027 - accuracy: 0.9376 - val_loss: 22.3507 - val_accuracy: 0.4356\n",
            "Epoch 59/60\n",
            "13/13 [==============================] - 2s 188ms/step - loss: 1.0084 - accuracy: 0.9420 - val_loss: 11.8683 - val_accuracy: 0.5644\n",
            "Epoch 60/60\n",
            "13/13 [==============================] - 2s 184ms/step - loss: 0.9941 - accuracy: 0.9138 - val_loss: 15.5135 - val_accuracy: 0.5347\n"
          ],
          "name": "stdout"
        }
      ]
    },
    {
      "cell_type": "code",
      "metadata": {
        "id": "Ecrolj0FyAIA",
        "colab": {
          "base_uri": "https://localhost:8080/",
          "height": 573
        },
        "outputId": "d2eb96a9-a486-412b-8c6a-e29ed9bf6cf3"
      },
      "source": [
        "plt.plot(history6.history['accuracy'])\n",
        "plt.plot(history6.history['val_accuracy'])\n",
        "plt.title('model accuracy')\n",
        "plt.ylabel('accuracy')\n",
        "plt.xlabel('epoch')\n",
        "plt.legend(['train', 'test'], loc='upper left')\n",
        "plt.show()\n",
        "# summarize history for loss\n",
        "plt.plot(history6.history['loss'])\n",
        "plt.plot(history6.history['val_loss'])\n",
        "plt.title('model loss')\n",
        "plt.ylabel('loss')\n",
        "plt.xlabel('epoch')\n",
        "plt.legend(['train', 'test'], loc='upper left')\n",
        "plt.show()"
      ],
      "execution_count": null,
      "outputs": [
        {
          "output_type": "display_data",
          "data": {
            "image/png": "[encoded data removed]",
            "text/plain": [
              "<Figure size 432x288 with 1 Axes>"
            ]
          },
          "metadata": {
            "tags": [],
            "needs_background": "light"
          }
        },
        {
          "output_type": "display_data",
          "data": {
            "image/png": "[encoded data removed]",
            "text/plain": [
              "<Figure size 432x288 with 1 Axes>"
            ]
          },
          "metadata": {
            "tags": [],
            "needs_background": "light"
          }
        }
      ]
    },
    {
      "cell_type": "code",
      "metadata": {
        "colab": {
          "base_uri": "https://localhost:8080/"
        },
        "id": "B8R-9aI5M2zM",
        "outputId": "4c329ef1-09e2-47df-fdf8-55d199a1817e"
      },
      "source": [
        "loss, accuracy = model6.evaluate(test_set, verbose=1)\n",
        "print(\"LOSS: \",loss)\n",
        "print(\"ACCURACY: \",accuracy)"
      ],
      "execution_count": null,
      "outputs": [
        {
          "output_type": "stream",
          "text": [
            "5/5 [==============================] - 0s 35ms/step - loss: 13.9718 - accuracy: 0.5659\n",
            "LOSS:  13.97181510925293\n",
            "ACCURACY:  0.565891444683075\n"
          ],
          "name": "stdout"
        }
      ]
    },
    {
      "cell_type": "code",
      "metadata": {
        "id": "278w9gwqNBOG"
      },
      "source": [
        ""
      ],
      "execution_count": null,
      "outputs": []
    }
  ]
}